{
 "cells": [
  {
   "cell_type": "markdown",
   "metadata": {},
   "source": [
    "# Imports"
   ]
  },
  {
   "cell_type": "code",
   "execution_count": 22,
   "metadata": {
    "ExecuteTime": {
     "end_time": "2019-09-16T11:52:44.638417Z",
     "start_time": "2019-09-16T11:52:43.889767Z"
    }
   },
   "outputs": [],
   "source": [
    "import pysweep\n",
    "import qcodes as qc\n",
    "import pysweep.databackends.debug\n",
    "import pysweep.databackends.list_backend\n",
    "import pysweep.databackends.qcodes\n",
    "import pysweep.core.measurementfunctions\n",
    "from pysweep.core.sweepobject import SweepObject\n",
    "from pysweep.core.measurementfunctions import MakeMeasurementFunction\n",
    "from pysweep.databackends.base import DataParameterFixedAxis\n",
    "import pysweep.convenience as conv\n",
    "import random\n",
    "import time\n",
    "import numpy as np\n",
    "import pandas as pd\n",
    "\n",
    "import matplotlib.pyplot as plt"
   ]
  },
  {
   "cell_type": "code",
   "execution_count": 2,
   "metadata": {},
   "outputs": [
    {
     "name": "stderr",
     "output_type": "stream",
     "text": [
      "C:\\Anaconda3\\envs\\measurement-env\\lib\\site-packages\\qcodes\\dataset\\sqlite_base.py:51: UserWarning: The module `qcodes.dataset.sqlite_base` is deprecated.\n",
      "Public features are available at the import of `qcodes`.\n",
      "Private features are available in `qcodes.dataset.sqlite.*` modules.\n",
      "  warnings.warn('The module `qcodes.dataset.sqlite_base` is deprecated.\\n'\n"
     ]
    }
   ],
   "source": [
    "from pysweep.databackends.base import DataParameter\n",
    "from pytopo.qctools.dataset2 import select_experiment\n",
    "from qcodes.dataset.measurements import Measurement\n",
    "\n",
    "from qcodes import load_by_id\n",
    "import qcodes as qc\n",
    "import qcodes.dataset.plotting\n",
    "import importlib"
   ]
  },
  {
   "cell_type": "code",
   "execution_count": 3,
   "metadata": {
    "ExecuteTime": {
     "end_time": "2019-09-16T11:47:25.559202Z",
     "start_time": "2019-09-16T11:47:25.556228Z"
    }
   },
   "outputs": [],
   "source": [
    "station = qc.Station()\n",
    "pysweep.STATION = station\n",
    "qc.config.core.db_location = r'D:\\OneDrive\\BF1\\Code\\pysweep\\testdata.db'\n",
    "qc.initialise_database()"
   ]
  },
  {
   "cell_type": "markdown",
   "metadata": {},
   "source": [
    "# Define a few parameters with physics"
   ]
  },
  {
   "cell_type": "code",
   "execution_count": 21,
   "metadata": {
    "ExecuteTime": {
     "end_time": "2019-09-16T11:47:25.573228Z",
     "start_time": "2019-09-16T11:47:25.561228Z"
    }
   },
   "outputs": [],
   "source": [
    "# Define dummy parameters representing DC bias and two gate voltages\n",
    "bias = qc.instrument.parameter.ManualParameter(\"bias\", units=\"V\")\n",
    "T1 = qc.instrument.parameter.ManualParameter(\"T1\", units=\"V\")\n",
    "T2 = qc.instrument.parameter.ManualParameter(\"T2\", units=\"V\")\n",
    "\n",
    "# Set the dummy parameters\n",
    "bias(0)\n",
    "T1(0)\n",
    "T2(0)\n",
    "\n",
    "# Helper function to generate a shape of a pinch off for fake measurement\n",
    "def pinchoff(v, rs=10e3, l=2e-6, muc=3*60e-18, vth=-1):\n",
    "    if v>vth:\n",
    "        return (rs+l**2/(muc*(v-vth)))\n",
    "    else:\n",
    "        return 1e11\n",
    "\n",
    "# Gettable parameter that represents a measured quantity\n",
    "def get_current():\n",
    "    u = bias()\n",
    "    r = pinchoff(T1())+pinchoff(T2())\n",
    "    return u/r\n",
    "current = qc.instrument.parameter.Parameter(\"current\", units=\"A\", get_cmd=get_current)\n",
    "\n",
    "# Other gettable parameter\n",
    "def S21(f):\n",
    "    s21 = 5e6**2/(5e6**2+(f-100e6)**2)\n",
    "    c = 1/(pinchoff(T1())+pinchoff(T2()))\n",
    "    s21 *= np.exp(-c/10e-6)\n",
    "    return 1-s21\n"
   ]
  },
  {
   "cell_type": "markdown",
   "metadata": {},
   "source": [
    "# Define the functions that define the measurement"
   ]
  },
  {
   "cell_type": "markdown",
   "metadata": {},
   "source": [
    "We need to define what happens at the start of a measurement, what must happen at the end of a measurement and finally what a measurement entails"
   ]
  },
  {
   "cell_type": "markdown",
   "metadata": {},
   "source": [
    "## Initialization and end functions"
   ]
  },
  {
   "cell_type": "code",
   "execution_count": 5,
   "metadata": {
    "ExecuteTime": {
     "end_time": "2019-09-16T11:47:25.583213Z",
     "start_time": "2019-09-16T11:47:25.575218Z"
    }
   },
   "outputs": [],
   "source": [
    "# A function that will be called before the beginning of the measurement loop to prepare a setup\n",
    "def init_measurement(d):\n",
    "    bias(1e-3)\n",
    "\n",
    "# A function that will be called after the end of the measurement loop to bring\n",
    "# the setup back to neutral configuration\n",
    "def end_measurement(d):\n",
    "    bias(0)"
   ]
  },
  {
   "cell_type": "markdown",
   "metadata": {},
   "source": [
    "## Measurement functions"
   ]
  },
  {
   "cell_type": "code",
   "execution_count": 6,
   "metadata": {
    "ExecuteTime": {
     "end_time": "2019-09-16T11:47:25.596205Z",
     "start_time": "2019-09-16T11:47:25.584211Z"
    }
   },
   "outputs": [],
   "source": [
    "# The parameter to be measured is wrapped to a format compatible with pysweep\n",
    "\n",
    "#                          name       unit\n",
    "@MakeMeasurementFunction([['current', 'A']])\n",
    "def measure(d):\n",
    "    return [current()] # list of measurement outcomes\n",
    "\n",
    "#                          name       unit    name          unit\n",
    "@MakeMeasurementFunction([['current', 'A'], ['conductance', 'S']])\n",
    "def measure_two_parameters(d):\n",
    "    c = current()\n",
    "    b = bias()\n",
    "    return [c, c/b] # list of measurement outcomes"
   ]
  },
  {
   "cell_type": "markdown",
   "metadata": {},
   "source": [
    "lets also define a function the measures the hypothetical temperature of our fridge"
   ]
  },
  {
   "cell_type": "code",
   "execution_count": 7,
   "metadata": {
    "ExecuteTime": {
     "end_time": "2019-09-16T11:47:25.608188Z",
     "start_time": "2019-09-16T11:47:25.598215Z"
    }
   },
   "outputs": [],
   "source": [
    "@MakeMeasurementFunction([['Temperature', 'mK']])\n",
    "def measure_temperature(d):\n",
    "    return [random.randint(100, 300)/10]"
   ]
  },
  {
   "cell_type": "markdown",
   "metadata": {},
   "source": [
    "# Simple measurements"
   ]
  },
  {
   "cell_type": "markdown",
   "metadata": {},
   "source": [
    "This paragraph contains some measurements that corresponds to the easiest cases of measurements. The cases cover 90% of all measurements that will run, but don't show the full power of pysweep"
   ]
  },
  {
   "cell_type": "markdown",
   "metadata": {},
   "source": [
    "## Basic 1D sweep"
   ]
  },
  {
   "cell_type": "code",
   "execution_count": 8,
   "metadata": {
    "ExecuteTime": {
     "end_time": "2019-09-16T11:48:23.474262Z",
     "start_time": "2019-09-16T11:48:23.468236Z"
    }
   },
   "outputs": [
    {
     "name": "stdout",
     "output_type": "stream",
     "text": [
      "None3 , postponing registration\n",
      "None2 , postponing registration\n",
      "Starting experimental run with id: 1\n"
     ]
    }
   ],
   "source": [
    "# check for existing experiment in the selected database, and create one if needed\n",
    "exp = select_experiment('pinchoff', 'test_sample')\n",
    "# create a QCoDeS measurement object\n",
    "meas = Measurement(exp, station)\n",
    "\n",
    "# the measurement loop\n",
    "r = pysweep.sweep(init_measurement, # function executed before the beginning of the loop\n",
    "              end_measurement,      # function executed after the end of the loop\n",
    "              measure,              # measurement to be executed at each iteration\n",
    "              pysweep.sweep_object(T1, np.linspace(0,-1.2,51)),  # specifies the parameter to loop over and a range\n",
    "              databackend = pysweep.databackends.qcodes.DataBackend(meas) # selects the databackend to send the data to\n",
    "            )"
   ]
  },
  {
   "cell_type": "code",
   "execution_count": 10,
   "metadata": {},
   "outputs": [
    {
     "data": {
      "text/plain": [
       "([<matplotlib.axes._subplots.AxesSubplot at 0x1c173248>], [None])"
      ]
     },
     "execution_count": 10,
     "metadata": {},
     "output_type": "execute_result"
    },
    {
     "data": {
      "image/png": "[encoded data removed]",
      "text/plain": [
       "<Figure size 432x288 with 1 Axes>"
      ]
     },
     "metadata": {
      "needs_background": "light"
     },
     "output_type": "display_data"
    }
   ],
   "source": [
    "# plot the measured data\n",
    "qcodes.dataset.plotting.plot_by_id(r.datasaver.run_id)"
   ]
  },
  {
   "cell_type": "markdown",
   "metadata": {},
   "source": [
    "## Basic 2D sweep"
   ]
  },
  {
   "cell_type": "code",
   "execution_count": 13,
   "metadata": {
    "ExecuteTime": {
     "end_time": "2019-09-13T11:23:11.673539Z",
     "start_time": "2019-09-13T11:23:07.771697Z"
    }
   },
   "outputs": [
    {
     "name": "stdout",
     "output_type": "stream",
     "text": [
      "None3 , postponing registration\n",
      "Starting experimental run with id: 3\n"
     ]
    }
   ],
   "source": [
    "# get the measurement object\n",
    "exp = select_experiment('pinchoff', 'test_sample')\n",
    "meas = Measurement(exp, station)\n",
    "\n",
    "# run the 2D sweep\n",
    "r = pysweep.sweep(init_measurement,\n",
    "                  end_measurement,\n",
    "                  measure_two_parameters, \n",
    "              pysweep.sweep_object(T1, np.linspace(0,-1.2,51)), \n",
    "              pysweep.sweep_object(T2, np.linspace(0,-1.2,51)), \n",
    "              databackend = pysweep.databackends.qcodes.DataBackend(meas)\n",
    "            )"
   ]
  },
  {
   "cell_type": "code",
   "execution_count": 15,
   "metadata": {},
   "outputs": [
    {
     "data": {
      "text/plain": [
       "([<matplotlib.axes._subplots.AxesSubplot at 0x1d7e0788>,\n",
       "  <matplotlib.axes._subplots.AxesSubplot at 0x1ddc2048>],\n",
       " [<matplotlib.colorbar.Colorbar at 0x1de01e48>,\n",
       "  <matplotlib.colorbar.Colorbar at 0x1dbe2948>])"
      ]
     },
     "execution_count": 15,
     "metadata": {},
     "output_type": "execute_result"
    },
    {
     "data": {
      "image/png": "[encoded data removed]",
      "text/plain": [
       "<Figure size 432x288 with 2 Axes>"
      ]
     },
     "metadata": {
      "needs_background": "light"
     },
     "output_type": "display_data"
    },
    {
     "data": {
      "image/png": "[encoded data removed]",
      "text/plain": [
       "<Figure size 432x288 with 2 Axes>"
      ]
     },
     "metadata": {
      "needs_background": "light"
     },
     "output_type": "display_data"
    }
   ],
   "source": [
    "# plot the two measured quantities\n",
    "qcodes.dataset.plotting.plot_by_id(r.datasaver.run_id)"
   ]
  },
  {
   "cell_type": "markdown",
   "metadata": {},
   "source": [
    "# Extended examples"
   ]
  },
  {
   "cell_type": "markdown",
   "metadata": {},
   "source": [
    "Here are a few examples of measurements that are still relatively simples, but with a few more bells and whistles"
   ]
  },
  {
   "cell_type": "markdown",
   "metadata": {},
   "source": [
    "Say that we want to measure the fridge temperature in addition to the current, then we simply execute"
   ]
  },
  {
   "cell_type": "markdown",
   "metadata": {},
   "source": [
    "## Addition of measurement functions"
   ]
  },
  {
   "cell_type": "code",
   "execution_count": 16,
   "metadata": {},
   "outputs": [
    {
     "name": "stdout",
     "output_type": "stream",
     "text": [
      "None3 , postponing registration\n",
      "Starting experimental run with id: 4\n"
     ]
    }
   ],
   "source": [
    "exp = select_experiment('pinchoff', 'test_sample')\n",
    "meas = Measurement(exp, station)\n",
    "\n",
    "r = pysweep.sweep(init_measurement,\n",
    "                  end_measurement,\n",
    "                  measure+measure_temperature, # measurement functions support addition\n",
    "              pysweep.sweep_object(T1, np.linspace(0,-1.2,51)), \n",
    "              pysweep.sweep_object(T2, np.linspace(0,-1.2,51)), \n",
    "              databackend=pysweep.databackends.qcodes.DataBackend(meas)\n",
    "            )"
   ]
  },
  {
   "cell_type": "code",
   "execution_count": 17,
   "metadata": {},
   "outputs": [
    {
     "data": {
      "text/plain": [
       "([<matplotlib.axes._subplots.AxesSubplot at 0x1dc69f88>,\n",
       "  <matplotlib.axes._subplots.AxesSubplot at 0x1df57b08>],\n",
       " [<matplotlib.colorbar.Colorbar at 0x1d8ffd08>,\n",
       "  <matplotlib.colorbar.Colorbar at 0x1d86eac8>])"
      ]
     },
     "execution_count": 17,
     "metadata": {},
     "output_type": "execute_result"
    },
    {
     "data": {
      "image/png": "[encoded data removed]",
      "text/plain": [
       "<Figure size 432x288 with 2 Axes>"
      ]
     },
     "metadata": {
      "needs_background": "light"
     },
     "output_type": "display_data"
    },
    {
     "data": {
      "image/png": "[encoded data removed]",
      "text/plain": [
       "<Figure size 432x288 with 2 Axes>"
      ]
     },
     "metadata": {
      "needs_background": "light"
     },
     "output_type": "display_data"
    }
   ],
   "source": [
    "qcodes.dataset.plotting.plot_by_id(r.datasaver.run_id)"
   ]
  },
  {
   "cell_type": "markdown",
   "metadata": {},
   "source": [
    "## Measurements in the outer measurement loop"
   ]
  },
  {
   "cell_type": "markdown",
   "metadata": {},
   "source": [
    "But often we only want to measure temperature every now and then, so let's assume that we want to measure the fridge tmeperature only after every time we set the T2 parameter"
   ]
  },
  {
   "cell_type": "code",
   "execution_count": 18,
   "metadata": {
    "ExecuteTime": {
     "end_time": "2019-09-11T15:36:36.574661Z",
     "start_time": "2019-09-11T15:36:36.531697Z"
    }
   },
   "outputs": [
    {
     "name": "stdout",
     "output_type": "stream",
     "text": [
      "None3 , postponing registration\n",
      "Starting experimental run with id: 5\n"
     ]
    }
   ],
   "source": [
    "exp = select_experiment('pinchoff', 'test_sample')\n",
    "meas = Measurement(exp, station)\n",
    "r = pysweep.sweep(init_measurement,\n",
    "                  end_measurement,\n",
    "                  measure, \n",
    "              pysweep.sweep_object(T1, np.linspace(0,-1.2,51)), \n",
    "              conv.add_function(pysweep.sweep_object(T2, np.linspace(0,-1.2,51)), measure_temperature), \n",
    "              databackend = pysweep.databackends.qcodes.DataBackend(meas)\n",
    "            )"
   ]
  },
  {
   "cell_type": "code",
   "execution_count": 19,
   "metadata": {},
   "outputs": [
    {
     "data": {
      "text/plain": [
       "([<matplotlib.axes._subplots.AxesSubplot at 0x1e152948>,\n",
       "  <matplotlib.axes._subplots.AxesSubplot at 0x1d5ac2c8>],\n",
       " [None, <matplotlib.colorbar.Colorbar at 0x1d787bc8>])"
      ]
     },
     "execution_count": 19,
     "metadata": {},
     "output_type": "execute_result"
    },
    {
     "data": {
      "image/png": "[encoded data removed]",
      "text/plain": [
       "<Figure size 432x288 with 1 Axes>"
      ]
     },
     "metadata": {
      "needs_background": "light"
     },
     "output_type": "display_data"
    },
    {
     "data": {
      "image/png": "[encoded data removed]",
      "text/plain": [
       "<Figure size 432x288 with 2 Axes>"
      ]
     },
     "metadata": {
      "needs_background": "light"
     },
     "output_type": "display_data"
    }
   ],
   "source": [
    "qcodes.dataset.plotting.plot_dataset(r.datasaver.dataset)"
   ]
  },
  {
   "cell_type": "markdown",
   "metadata": {},
   "source": [
    "## Measurement functions returning an array of coordinates and array of data"
   ]
  },
  {
   "cell_type": "markdown",
   "metadata": {},
   "source": [
    "Several instruments internally perform a 1D (or multi-D) sweep and return an array values. For example VNA will return an array representing full dependence S21(f), which we may want to repeat as a function of some other parameter."
   ]
  },
  {
   "cell_type": "code",
   "execution_count": 24,
   "metadata": {},
   "outputs": [],
   "source": [
    "# A function that creates a measurement function\n",
    "def transmission_vs_frequency(frequency_sweep_range):\n",
    "    \n",
    "    # create a pysweep data parameter reperesenting a frequency\n",
    "    # it is neccesary to ensure that it is treated as an independent variable\n",
    "    frequency_parameter = DataParameterFixedAxis('Frequency',\n",
    "                                        'Hz',\n",
    "                                        'array',\n",
    "                                        frequency_sweep_range)\n",
    "    \n",
    "    #                        data parameter\n",
    "    #                        for independent\n",
    "    #                        variable               name    unit       type\n",
    "    @MakeMeasurementFunction([frequency_parameter, ['S21', 'arb. u.', 'array']])\n",
    "    def transmission_vs_frequency_measurement_function(d):\n",
    "        measured_S21 = S21(frequency_sweep_range)\n",
    "        return [frequency_sweep_range, measured_S21]\n",
    "    \n",
    "    # return a measurement function\n",
    "    return transmission_vs_frequency_measurement_function"
   ]
  },
  {
   "cell_type": "code",
   "execution_count": 25,
   "metadata": {},
   "outputs": [
    {
     "name": "stdout",
     "output_type": "stream",
     "text": [
      "None3 , postponing registration\n",
      "None2 , postponing registration\n",
      "Starting experimental run with id: 6\n"
     ]
    }
   ],
   "source": [
    "exp = select_experiment('pinchoff', 'test_sample')\n",
    "meas = Measurement(exp, station)\n",
    "\n",
    "T1(0)\n",
    "T2(0)\n",
    "\n",
    "# let's measure current and transmission\n",
    "r = pysweep.sweep(init_measurement,\n",
    "                  end_measurement,\n",
    "                  measure+transmission_vs_frequency(np.linspace(80e6,120e6)), # a measurement function that returns anarray must be last to be added\n",
    "              pysweep.sweep_object(T1, np.linspace(0,-1.2,51)), \n",
    "              databackend=pysweep.databackends.qcodes.DataBackend(meas)\n",
    "            )"
   ]
  },
  {
   "cell_type": "code",
   "execution_count": 26,
   "metadata": {},
   "outputs": [
    {
     "data": {
      "text/plain": [
       "([<matplotlib.axes._subplots.AxesSubplot at 0x1e107a08>,\n",
       "  <matplotlib.axes._subplots.AxesSubplot at 0x1e11a348>],\n",
       " [None, <matplotlib.colorbar.Colorbar at 0x1df08e08>])"
      ]
     },
     "execution_count": 26,
     "metadata": {},
     "output_type": "execute_result"
    },
    {
     "data": {
      "image/png": "[encoded data removed]",
      "text/plain": [
       "<Figure size 432x288 with 1 Axes>"
      ]
     },
     "metadata": {
      "needs_background": "light"
     },
     "output_type": "display_data"
    },
    {
     "data": {
      "image/png": "[encoded data removed]",
      "text/plain": [
       "<Figure size 432x288 with 2 Axes>"
      ]
     },
     "metadata": {
      "needs_background": "light"
     },
     "output_type": "display_data"
    }
   ],
   "source": [
    "qcodes.dataset.plotting.plot_dataset(r.datasaver.dataset)"
   ]
  },
  {
   "cell_type": "markdown",
   "metadata": {
    "heading_collapsed": true
   },
   "source": [
    "# Adaptive sweep - under construction"
   ]
  },
  {
   "cell_type": "code",
   "execution_count": null,
   "metadata": {
    "ExecuteTime": {
     "end_time": "2019-09-11T15:36:36.580663Z",
     "start_time": "2019-09-11T15:36:36.576662Z"
    },
    "hidden": true
   },
   "outputs": [],
   "source": [
    "@MakeMeasurementFunction([['timestamp', 's']])\n",
    "def smart_point_function(dict_waterfall):\n",
    "    timestamp = int(time.time())\n",
    "    points = [int(c) for c in str(timestamp)]\n",
    "    return points, [timestamp]"
   ]
  },
  {
   "cell_type": "code",
   "execution_count": null,
   "metadata": {
    "ExecuteTime": {
     "end_time": "2019-09-11T15:36:36.651851Z",
     "start_time": "2019-09-11T15:36:36.582658Z"
    },
    "hidden": true
   },
   "outputs": [],
   "source": [
    "db = pysweep.databackends.debug.DebugDataBackend()\n",
    "pysweep.sweep(lambda d:{}, lambda d:{}, measure, \n",
    "              pysweep.sweep_object(a, [0,1]),\n",
    "              conv.add_function(pysweep.sweep_object(b, [3,4]), measure_temperature),\n",
    "              pysweep.sweep_object(c, smart_point_function, dataparameter=np.linspace(0,9,10)), databackend=db\n",
    "             )"
   ]
  },
  {
   "cell_type": "markdown",
   "metadata": {
    "heading_collapsed": true
   },
   "source": [
    "# Real life example - under construction"
   ]
  },
  {
   "cell_type": "code",
   "execution_count": null,
   "metadata": {
    "hidden": true
   },
   "outputs": [],
   "source": [
    "%%enqueue single_shot_readout\n",
    "exp = select_experiment('blobs', SAMPLE)\n",
    "meas = Measurement(exp, station)\n",
    "singleshot_dataextractor.setup_acquisition(1024, 1000, 100)\n",
    "#4.77946e9\n",
    "parameter_list = [[station.TI.NW_bias, 0e-3], [station.HT.frequency, 4779770000], [station.HT.RF.power, -20.25]]\n",
    "\n",
    "pysweep.sweep(sf.set_parameters_after(init_rf, parameter_list), end_rf, \n",
    "              measure_singleshot_rf,\n",
    "              pysweep.sweep_object(station.TI.SP4, snr_calibrate_plunger(pysweep.sweep_object(station.TI.SP4, np.linspace(0., 0.4, 101))), dataparameter=[0,1]),\n",
    "              pysweep.convenience.add_function(pysweep.sweep_object(station.TI.T5, np.linspace(-1, -1.35, 101)), csc),\n",
    "              databackend = pysweep.databackends.qcodes.DataBackend(meas)\n",
    "             )\n",
    "rigol.ch1_output_enabled(False)"
   ]
  },
  {
   "cell_type": "markdown",
   "metadata": {
    "heading_collapsed": true
   },
   "source": [
    "# Jagged Data Structures - under construction"
   ]
  },
  {
   "cell_type": "code",
   "execution_count": null,
   "metadata": {
    "hidden": true
   },
   "outputs": [],
   "source": [
    "?DataParameter"
   ]
  },
  {
   "cell_type": "code",
   "execution_count": null,
   "metadata": {
    "hidden": true
   },
   "outputs": [],
   "source": [
    "@MakeMeasurementFunction([DataParameter('time', 's', 'array', 2),\n",
    "                         DataParameter('first_gate', 'V', 'array', 2),\n",
    "                         DataParameter('second_gate', 'V', 'array', 2),\n",
    "                         DataParameter('first_gate_result', 'I', 'array', extra_dependencies=['time', 'first_gate']),\n",
    "                         DataParameter('time', 's', 'array', 2, duplicate=True),\n",
    "                         DataParameter('second_gate_result', 'I', 'array', extra_dependencies=['time', 'second_gate'])])\n",
    "def some_arbitrary_data(d):\n",
    "    return [np.linspace(0,1, 11), np.linspace(0,0.1, 11), np.linspace(0,-0.1, 21), np.linspace(0,0.2, 11), np.linspace(1,2, 21), np.linspace(0,-0.2, 21)]"
   ]
  },
  {
   "cell_type": "code",
   "execution_count": null,
   "metadata": {
    "hidden": true
   },
   "outputs": [],
   "source": [
    "importlib.reload(pysweep.databackends.qcodes)"
   ]
  },
  {
   "cell_type": "code",
   "execution_count": null,
   "metadata": {
    "hidden": true
   },
   "outputs": [],
   "source": [
    "exp = select_experiment('jagged_data', 'test')\n",
    "meas = Measurement(exp, station)\n",
    "\n",
    "pysweep.sweep(init_measurement, end_measurement, \n",
    "              some_arbitrary_data,\n",
    "              pysweep.sweep_object(T1, np.linspace(0,1,2)),\n",
    "              databackend = pysweep.databackends.qcodes.CutDataBackend(meas)\n",
    "             )"
   ]
  },
  {
   "cell_type": "code",
   "execution_count": null,
   "metadata": {
    "hidden": true
   },
   "outputs": [],
   "source": []
  },
  {
   "cell_type": "code",
   "execution_count": null,
   "metadata": {
    "hidden": true
   },
   "outputs": [],
   "source": [
    "raw_data = load_by_id(12)\n",
    "data = raw_data.get_parameter_data()"
   ]
  },
  {
   "cell_type": "code",
   "execution_count": null,
   "metadata": {
    "hidden": true
   },
   "outputs": [],
   "source": [
    "raw_data"
   ]
  },
  {
   "cell_type": "code",
   "execution_count": null,
   "metadata": {
    "hidden": true
   },
   "outputs": [],
   "source": [
    "data['first_gate_result']['first_gate_result']"
   ]
  },
  {
   "cell_type": "code",
   "execution_count": null,
   "metadata": {
    "hidden": true
   },
   "outputs": [],
   "source": [
    "plt.plot(data['first_gate_result']['first_gate'][0], data['first_gate_result']['first_gate_result'][0], '.')\n",
    "plt.show()\n",
    "plt.plot(data['second_gate_result']['second_gate'][0], data['second_gate_result']['second_gate_result'][0], '.')\n",
    "plt.show()\n",
    "plt.plot(data['first_gate_result']['time'][0], data['first_gate_result']['first_gate_result'][0], '.')\n",
    "plt.plot(data['second_gate_result']['time'][0], data['second_gate_result']['second_gate_result'][0], '.')\n",
    "plt.xlabel('time')\n",
    "plt.ylabel('gate_result')\n",
    "plt.show()"
   ]
  },
  {
   "cell_type": "code",
   "execution_count": null,
   "metadata": {
    "hidden": true
   },
   "outputs": [],
   "source": [
    "from plottr.data.datadict import datadict_to_meshgrid\n",
    "from plottr.data.qcodes_dataset import ds_to_datadict"
   ]
  },
  {
   "cell_type": "code",
   "execution_count": null,
   "metadata": {
    "hidden": true
   },
   "outputs": [],
   "source": [
    "def load(runid):\n",
    "    return datadict_to_meshgrid(ds_to_datadict(load_by_id(runid)))"
   ]
  },
  {
   "cell_type": "code",
   "execution_count": null,
   "metadata": {
    "hidden": true
   },
   "outputs": [],
   "source": [
    "ds = ds_to_datadict(load_by_id(12))"
   ]
  },
  {
   "cell_type": "code",
   "execution_count": null,
   "metadata": {
    "hidden": true
   },
   "outputs": [],
   "source": [
    "from plottr.node.data_selector import DataSelector"
   ]
  },
  {
   "cell_type": "code",
   "execution_count": null,
   "metadata": {
    "hidden": true
   },
   "outputs": [],
   "source": [
    "dataselector = DataSelector('dataselector')"
   ]
  },
  {
   "cell_type": "code",
   "execution_count": null,
   "metadata": {
    "hidden": true
   },
   "outputs": [],
   "source": [
    "ds"
   ]
  },
  {
   "cell_type": "code",
   "execution_count": null,
   "metadata": {
    "hidden": true
   },
   "outputs": [],
   "source": [
    "ds2 = ds.extract(['first_gate_result'])"
   ]
  },
  {
   "cell_type": "code",
   "execution_count": null,
   "metadata": {
    "hidden": true
   },
   "outputs": [],
   "source": [
    "ds3 = datadict_to_meshgrid(ds2)\n",
    "ds3.validate()"
   ]
  },
  {
   "cell_type": "code",
   "execution_count": null,
   "metadata": {
    "hidden": true
   },
   "outputs": [],
   "source": [
    "ds3.shape()"
   ]
  },
  {
   "cell_type": "code",
   "execution_count": null,
   "metadata": {
    "hidden": true
   },
   "outputs": [],
   "source": [
    "ds3.structure(), ds3.shapes()"
   ]
  },
  {
   "cell_type": "code",
   "execution_count": null,
   "metadata": {
    "hidden": true
   },
   "outputs": [],
   "source": [
    "ds3.sanitize()"
   ]
  },
  {
   "cell_type": "code",
   "execution_count": null,
   "metadata": {
    "hidden": true
   },
   "outputs": [],
   "source": []
  }
 ],
 "metadata": {
  "kernelspec": {
   "display_name": "Python 3",
   "language": "python",
   "name": "python3"
  },
  "language_info": {
   "codemirror_mode": {
    "name": "ipython",
    "version": 3
   },
   "file_extension": ".py",
   "mimetype": "text/x-python",
   "name": "python",
   "nbconvert_exporter": "python",
   "pygments_lexer": "ipython3",
   "version": "3.7.4"
  },
  "toc": {
   "base_numbering": 1,
   "nav_menu": {},
   "number_sections": true,
   "sideBar": true,
   "skip_h1_title": false,
   "title_cell": "Table of Contents",
   "title_sidebar": "Contents",
   "toc_cell": false,
   "toc_position": {},
   "toc_section_display": true,
   "toc_window_display": true
  }
 },
 "nbformat": 4,
 "nbformat_minor": 4
}
