{
 "cells": [
  {
   "cell_type": "markdown",
   "metadata": {},
   "source": [
    "# Imports"
   ]
  },
  {
   "cell_type": "code",
   "execution_count": 1,
   "metadata": {
    "ExecuteTime": {
     "end_time": "2019-11-20T12:28:10.230362Z",
     "start_time": "2019-11-20T12:28:05.910597Z"
    }
   },
   "outputs": [],
   "source": [
    "import pysweep\n",
    "import qcodes as qc\n",
    "import pysweep.databackends.debug\n",
    "import pysweep.databackends.list_backend\n",
    "import pysweep.databackends.qcodes\n",
    "import pysweep.core.measurementfunctions\n",
    "from pysweep.core.sweepobject import SweepObject\n",
    "from pysweep.core.measurementfunctions import MakeMeasurementFunction\n",
    "from pysweep.databackends.base import DataParameterFixedAxis\n",
    "import pysweep.convenience as conv\n",
    "import random\n",
    "import time\n",
    "import numpy as np\n",
    "import pandas as pd\n",
    "\n",
    "import matplotlib.pyplot as plt"
   ]
  },
  {
   "cell_type": "code",
   "execution_count": 2,
   "metadata": {
    "ExecuteTime": {
     "end_time": "2019-11-20T12:28:10.934393Z",
     "start_time": "2019-11-20T12:28:10.901478Z"
    }
   },
   "outputs": [
    {
     "name": "stderr",
     "output_type": "stream",
     "text": [
      "C:\\Anaconda3\\envs\\qcodes-env2\\lib\\site-packages\\qcodes\\dataset\\sqlite_base.py:51: UserWarning: The module `qcodes.dataset.sqlite_base` is deprecated.\n",
      "Public features are available at the import of `qcodes`.\n",
      "Private features are available in `qcodes.dataset.sqlite.*` modules.\n",
      "  warnings.warn('The module `qcodes.dataset.sqlite_base` is deprecated.\\n'\n"
     ]
    }
   ],
   "source": [
    "from pysweep.databackends.base import DataParameter\n",
    "from pytopo.qctools.dataset2 import select_experiment\n",
    "from qcodes.dataset.measurements import Measurement\n",
    "\n",
    "from qcodes import load_by_id\n",
    "import qcodes as qc\n",
    "import qcodes.dataset.plotting\n",
    "import importlib"
   ]
  },
  {
   "cell_type": "code",
   "execution_count": 47,
   "metadata": {
    "ExecuteTime": {
     "end_time": "2019-11-20T13:09:29.108634Z",
     "start_time": "2019-11-20T13:09:29.098663Z"
    }
   },
   "outputs": [],
   "source": [
    "station = qc.Station()\n",
    "pysweep.STATION = station\n",
    "qc.initialise_or_create_database_at('testdata.db')"
   ]
  },
  {
   "cell_type": "markdown",
   "metadata": {},
   "source": [
    "# Define a few parameters with physics"
   ]
  },
  {
   "cell_type": "code",
   "execution_count": 4,
   "metadata": {
    "ExecuteTime": {
     "end_time": "2019-11-20T12:28:15.863255Z",
     "start_time": "2019-11-20T12:28:15.838724Z"
    }
   },
   "outputs": [],
   "source": [
    "# Define dummy parameters representing DC bias and two gate voltages\n",
    "bias = qc.instrument.parameter.ManualParameter(\"bias\", units=\"V\")\n",
    "T1 = qc.instrument.parameter.ManualParameter(\"T1\", units=\"V\")\n",
    "T2 = qc.instrument.parameter.ManualParameter(\"T2\", units=\"V\")\n",
    "\n",
    "# Set the dummy parameters\n",
    "bias(0)\n",
    "T1(0)\n",
    "T2(0)\n",
    "\n",
    "# Helper function to generate a shape of a pinch off for fake measurement\n",
    "def pinchoff(v, rs=10e3, l=2e-6, muc=3*60e-18, vth=-1):\n",
    "    if v>vth:\n",
    "        return (rs+l**2/(muc*(v-vth)))\n",
    "    else:\n",
    "        return 1e11\n",
    "\n",
    "# Gettable parameter that represents a measured quantity\n",
    "def get_current():\n",
    "    u = bias()\n",
    "    r = pinchoff(T1())+pinchoff(T2())\n",
    "    return u/r\n",
    "current = qc.instrument.parameter.Parameter(\"current\", units=\"A\", get_cmd=get_current)\n",
    "\n",
    "# Other gettable parameter\n",
    "def S21(f):\n",
    "    s21 = 5e6**2/(5e6**2+(f-100e6)**2)\n",
    "    c = 1/(pinchoff(T1())+pinchoff(T2()))\n",
    "    s21 *= np.exp(-c/10e-6)\n",
    "    return 1-s21\n"
   ]
  },
  {
   "cell_type": "markdown",
   "metadata": {},
   "source": [
    "# Define the functions that define the measurement"
   ]
  },
  {
   "cell_type": "markdown",
   "metadata": {},
   "source": [
    "We need to define what happens at the start of a measurement, what must happen at the end of a measurement and finally what a measurement entails"
   ]
  },
  {
   "cell_type": "markdown",
   "metadata": {},
   "source": [
    "## Initialization and end functions"
   ]
  },
  {
   "cell_type": "markdown",
   "metadata": {},
   "source": [
    "We need to define what happens at the start of a measurement and what must happen at the end of a measurement"
   ]
  },
  {
   "cell_type": "code",
   "execution_count": 5,
   "metadata": {
    "ExecuteTime": {
     "end_time": "2019-11-20T12:28:19.023810Z",
     "start_time": "2019-11-20T12:28:19.010847Z"
    }
   },
   "outputs": [],
   "source": [
    "# A function that will be called before the beginning of the measurement loop to prepare a setup\n",
    "def init_measurement(d):\n",
    "    bias(1e-3)\n",
    "\n",
    "# A function that will be called after the end of the measurement loop to bring\n",
    "# the setup back to neutral configuration\n",
    "def end_measurement(d):\n",
    "    bias(0)"
   ]
  },
  {
   "cell_type": "markdown",
   "metadata": {},
   "source": [
    "## Measurement functions"
   ]
  },
  {
   "cell_type": "markdown",
   "metadata": {},
   "source": [
    "Finally, we will need to define what a measurement entails. Any measurement that pysweep does is encapsulated as a MeasurementFucntion class. It contains a function that returns the measurement results as a list, as well as a list containing the metadata for every return value, this list is called the `ParamStruct`"
   ]
  },
  {
   "cell_type": "code",
   "execution_count": 6,
   "metadata": {
    "ExecuteTime": {
     "end_time": "2019-11-20T12:28:20.482720Z",
     "start_time": "2019-11-20T12:28:20.469757Z"
    }
   },
   "outputs": [],
   "source": [
    "# The parameter to be measured is wrapped to a format compatible with pysweep\n",
    "@MakeMeasurementFunction([pysweep.DataParameter(name='current', unit='A')])\n",
    "def measure(d):\n",
    "    return [current()] # list of measurement outcomes\n",
    "\n",
    "# A measurement function can also return multiple values\n",
    "@MakeMeasurementFunction([pysweep.DataParameter(name='current', unit='A'), pysweep.DataParameter(name='conductance', unit='S')])\n",
    "def measure_two_parameters(d):\n",
    "    c = current()\n",
    "    b = bias()\n",
    "    return [c, c/b] # list of measurement outcomes"
   ]
  },
  {
   "cell_type": "markdown",
   "metadata": {},
   "source": [
    "lets also define a function the measures the hypothetical temperature of our fridge\n",
    "Because the explicit definition of the DataParameter is overly verbose, we introduce the shorthand:\n",
    "\n",
    "If an element `param` of the datastruct is not of type `DataParameter`, it will try to construct a dataparameters automatically as\n",
    "`DataParameter(*param)`\n",
    "as such we can define a measurementfunction as"
   ]
  },
  {
   "cell_type": "code",
   "execution_count": 7,
   "metadata": {
    "ExecuteTime": {
     "end_time": "2019-11-20T12:28:23.067851Z",
     "start_time": "2019-11-20T12:28:23.060537Z"
    }
   },
   "outputs": [],
   "source": [
    "@MakeMeasurementFunction([['Temperature', 'mK']])\n",
    "def measure_temperature(d):\n",
    "    return [random.randint(100, 300)/10]"
   ]
  },
  {
   "cell_type": "markdown",
   "metadata": {},
   "source": [
    "# Simple measurements"
   ]
  },
  {
   "cell_type": "markdown",
   "metadata": {},
   "source": [
    "Since we now have the functions that will be execute to measure something, we can now look at the code that will perform the sweeping"
   ]
  },
  {
   "cell_type": "markdown",
   "metadata": {},
   "source": [
    "In pysweep, sweeps are performed with `SweepObjects` which consist of 4 elements\n",
    "* set_function\n",
    "* unit\n",
    "* label\n",
    "* point_function"
   ]
  },
  {
   "cell_type": "markdown",
   "metadata": {},
   "source": [
    "For now, let us ignore the details and see how they can be constructed:\n",
    "\n",
    "`pysweep.sweep_object(T1, np.linspace(0,-1.2,51))`\n",
    "\n",
    "This encodes the idea of sweeping the `T1` gate from 0 to -1.2 in 51 steps (`np.linspace(0,-1.2,51)`)"
   ]
  },
  {
   "cell_type": "markdown",
   "metadata": {},
   "source": [
    "With this extra component, we have enouigh to start performing measurements. This paragraph contains some measurements that corresponds to the easiest cases of measurements. The cases cover 90% of all measurements that will run, but don't show the full power of pysweep"
   ]
  },
  {
   "cell_type": "markdown",
   "metadata": {},
   "source": [
    "## Basic 1D sweep"
   ]
  },
  {
   "cell_type": "code",
   "execution_count": 8,
   "metadata": {
    "ExecuteTime": {
     "end_time": "2019-11-20T12:28:26.396294Z",
     "start_time": "2019-11-20T12:28:26.270624Z"
    }
   },
   "outputs": [
    {
     "name": "stdout",
     "output_type": "stream",
     "text": [
      "None3 , postponing registration\n",
      "None2 , postponing registration\n",
      "Starting experimental run with id: 22\n"
     ]
    }
   ],
   "source": [
    "# check for existing experiment in the selected database, and create one if needed\n",
    "exp = select_experiment('pinchoff', 'test_sample')\n",
    "# create a QCoDeS measurement object\n",
    "meas = Measurement(exp, station)\n",
    "\n",
    "# the measurement loop\n",
    "r = pysweep.sweep(init_measurement, # function executed before the beginning of the loop\n",
    "              end_measurement,      # function executed after the end of the loop\n",
    "              measure,              # measurement to be executed at each iteration\n",
    "              pysweep.sweep_object(T1, np.linspace(0,-1.2,51)),  # specifies the parameter to loop over and a range\n",
    "              databackend = pysweep.databackends.qcodes.DataBackend(meas) # selects the databackend to send the data to\n",
    "            )"
   ]
  },
  {
   "cell_type": "code",
   "execution_count": 9,
   "metadata": {
    "ExecuteTime": {
     "end_time": "2019-11-20T12:28:30.155076Z",
     "start_time": "2019-11-20T12:28:29.750160Z"
    }
   },
   "outputs": [
    {
     "data": {
      "text/plain": [
       "([<matplotlib.axes._subplots.AxesSubplot at 0x1ce0c756988>], [None])"
      ]
     },
     "execution_count": 9,
     "metadata": {},
     "output_type": "execute_result"
    },
    {
     "data": {
      "image/png": "[encoded data removed]",
      "text/plain": [
       "<Figure size 432x288 with 1 Axes>"
      ]
     },
     "metadata": {
      "needs_background": "light"
     },
     "output_type": "display_data"
    }
   ],
   "source": [
    "# plot the measured data\n",
    "qcodes.dataset.plotting.plot_by_id(r.datasaver.run_id)"
   ]
  },
  {
   "cell_type": "markdown",
   "metadata": {},
   "source": [
    "## Basic 2D sweep"
   ]
  },
  {
   "cell_type": "markdown",
   "metadata": {},
   "source": [
    "Adding another dimension is trivial, where we follow the rule that the inner most loop is at the top, closest to the `MeasurementFunction`"
   ]
  },
  {
   "cell_type": "code",
   "execution_count": 10,
   "metadata": {
    "ExecuteTime": {
     "end_time": "2019-11-20T12:28:33.524587Z",
     "start_time": "2019-11-20T12:28:32.993011Z"
    }
   },
   "outputs": [
    {
     "name": "stdout",
     "output_type": "stream",
     "text": [
      "None3 , postponing registration\n",
      "Starting experimental run with id: 23\n"
     ]
    }
   ],
   "source": [
    "# get the measurement object\n",
    "exp = select_experiment('pinchoff', 'test_sample')\n",
    "meas = Measurement(exp, station)\n",
    "\n",
    "# run the 2D sweep\n",
    "r = pysweep.sweep(init_measurement,\n",
    "                  end_measurement,\n",
    "                  measure, \n",
    "              pysweep.sweep_object(T1, np.linspace(0,-1.2,51)), \n",
    "              pysweep.sweep_object(T2, np.linspace(0,-1.2,51)), \n",
    "              databackend = pysweep.databackends.qcodes.DataBackend(meas)\n",
    "            )"
   ]
  },
  {
   "cell_type": "code",
   "execution_count": 11,
   "metadata": {
    "ExecuteTime": {
     "end_time": "2019-11-20T12:28:34.652394Z",
     "start_time": "2019-11-20T12:28:34.091900Z"
    }
   },
   "outputs": [
    {
     "data": {
      "text/plain": [
       "([<matplotlib.axes._subplots.AxesSubplot at 0x1ce104fb1c8>],\n",
       " [<matplotlib.colorbar.Colorbar at 0x1ce104cd208>])"
      ]
     },
     "execution_count": 11,
     "metadata": {},
     "output_type": "execute_result"
    },
    {
     "data": {
      "image/png": "[encoded data removed]",
      "text/plain": [
       "<Figure size 432x288 with 2 Axes>"
      ]
     },
     "metadata": {
      "needs_background": "light"
     },
     "output_type": "display_data"
    }
   ],
   "source": [
    "# plot the measured quantities\n",
    "qcodes.dataset.plotting.plot_by_id(r.datasaver.run_id)"
   ]
  },
  {
   "cell_type": "markdown",
   "metadata": {},
   "source": [
    "## Measure multiple parameters"
   ]
  },
  {
   "cell_type": "markdown",
   "metadata": {},
   "source": [
    "As meantioned before, some `MeasurementFunctions` contain more than one parameter, which leads to the following measurement"
   ]
  },
  {
   "cell_type": "code",
   "execution_count": 12,
   "metadata": {
    "ExecuteTime": {
     "end_time": "2019-11-20T12:29:47.765313Z",
     "start_time": "2019-11-20T12:29:47.588792Z"
    }
   },
   "outputs": [
    {
     "name": "stdout",
     "output_type": "stream",
     "text": [
      "None3 , postponing registration\n",
      "None2 , postponing registration\n",
      "Starting experimental run with id: 24\n"
     ]
    },
    {
     "name": "stderr",
     "output_type": "stream",
     "text": [
      "C:\\Anaconda3\\envs\\qcodes-env2\\lib\\site-packages\\ipykernel_launcher.py:11: RuntimeWarning: invalid value encountered in double_scalars\n",
      "  # This is added back by InteractiveShellApp.init_path()\n"
     ]
    }
   ],
   "source": [
    "# get the measurement object\n",
    "exp = select_experiment('pinchoff', 'test_sample')\n",
    "meas = Measurement(exp, station)\n",
    "T1(0)\n",
    "T2(0)\n",
    "\n",
    "r = pysweep.sweep(init_measurement,\n",
    "                  end_measurement,\n",
    "                  measure_two_parameters, \n",
    "              pysweep.sweep_object(bias, np.linspace(-1e-3,1e-3,251)), \n",
    "              databackend = pysweep.databackends.qcodes.DataBackend(meas)\n",
    "            )"
   ]
  },
  {
   "cell_type": "code",
   "execution_count": 13,
   "metadata": {
    "ExecuteTime": {
     "end_time": "2019-11-20T12:30:17.917578Z",
     "start_time": "2019-11-20T12:30:16.679637Z"
    }
   },
   "outputs": [
    {
     "data": {
      "text/plain": [
       "([<matplotlib.axes._subplots.AxesSubplot at 0x1ce10496a48>,\n",
       "  <matplotlib.axes._subplots.AxesSubplot at 0x1ce125b6d08>],\n",
       " [None, None])"
      ]
     },
     "execution_count": 13,
     "metadata": {},
     "output_type": "execute_result"
    },
    {
     "data": {
      "image/png": "[encoded data removed]",
      "text/plain": [
       "<Figure size 432x288 with 1 Axes>"
      ]
     },
     "metadata": {
      "needs_background": "light"
     },
     "output_type": "display_data"
    },
    {
     "data": {
      "image/png": "[encoded data removed]",
      "text/plain": [
       "<Figure size 432x288 with 1 Axes>"
      ]
     },
     "metadata": {
      "needs_background": "light"
     },
     "output_type": "display_data"
    }
   ],
   "source": [
    "# plot the two measured quantities\n",
    "qcodes.dataset.plotting.plot_by_id(r.datasaver.run_id)"
   ]
  },
  {
   "cell_type": "markdown",
   "metadata": {},
   "source": [
    "# Extended examples"
   ]
  },
  {
   "cell_type": "markdown",
   "metadata": {},
   "source": [
    "Here are a few examples of measurements that are still relatively simples, but with a few more bells and whistles"
   ]
  },
  {
   "cell_type": "markdown",
   "metadata": {},
   "source": [
    "Say that we want to measure the fridge temperature in addition to the current. This can be done by creating the combined measurement object `measure+measure_temperature` and hence we simply execute"
   ]
  },
  {
   "cell_type": "markdown",
   "metadata": {},
   "source": [
    "## Addition of measurement functions"
   ]
  },
  {
   "cell_type": "code",
   "execution_count": 14,
   "metadata": {
    "ExecuteTime": {
     "end_time": "2019-11-20T12:31:20.083762Z",
     "start_time": "2019-11-20T12:31:19.519159Z"
    }
   },
   "outputs": [
    {
     "name": "stdout",
     "output_type": "stream",
     "text": [
      "None3 , postponing registration\n",
      "Starting experimental run with id: 25\n"
     ]
    }
   ],
   "source": [
    "exp = select_experiment('pinchoff', 'test_sample')\n",
    "meas = Measurement(exp, station)\n",
    "\n",
    "r = pysweep.sweep(init_measurement,\n",
    "                  end_measurement,\n",
    "                  measure+measure_temperature, # measurement functions support addition\n",
    "              pysweep.sweep_object(T1, np.linspace(0,-1.2,51)), \n",
    "              pysweep.sweep_object(T2, np.linspace(0,-1.2,51)), \n",
    "              databackend=pysweep.databackends.qcodes.DataBackend(meas)\n",
    "            )"
   ]
  },
  {
   "cell_type": "code",
   "execution_count": 15,
   "metadata": {
    "ExecuteTime": {
     "end_time": "2019-11-20T12:31:22.042706Z",
     "start_time": "2019-11-20T12:31:21.040353Z"
    }
   },
   "outputs": [
    {
     "data": {
      "text/plain": [
       "([<matplotlib.axes._subplots.AxesSubplot at 0x1ce128de588>,\n",
       "  <matplotlib.axes._subplots.AxesSubplot at 0x1ce12904e08>],\n",
       " [<matplotlib.colorbar.Colorbar at 0x1ce12a94448>,\n",
       "  <matplotlib.colorbar.Colorbar at 0x1ce12ac4cc8>])"
      ]
     },
     "execution_count": 15,
     "metadata": {},
     "output_type": "execute_result"
    },
    {
     "data": {
      "image/png": "[encoded data removed]",
      "text/plain": [
       "<Figure size 432x288 with 2 Axes>"
      ]
     },
     "metadata": {
      "needs_background": "light"
     },
     "output_type": "display_data"
    },
    {
     "data": {
      "image/png": "[encoded data removed]",
      "text/plain": [
       "<Figure size 432x288 with 2 Axes>"
      ]
     },
     "metadata": {
      "needs_background": "light"
     },
     "output_type": "display_data"
    }
   ],
   "source": [
    "qcodes.dataset.plotting.plot_by_id(r.datasaver.run_id)"
   ]
  },
  {
   "cell_type": "markdown",
   "metadata": {},
   "source": [
    "## Measurements in the outer measurement loop"
   ]
  },
  {
   "cell_type": "markdown",
   "metadata": {},
   "source": [
    "But often we only want to measure temperature every now and then, so let's assume that we want to measure the fridge tmeperature only after every time we set the T2 parameter"
   ]
  },
  {
   "cell_type": "code",
   "execution_count": 16,
   "metadata": {
    "ExecuteTime": {
     "end_time": "2019-11-20T12:31:26.150218Z",
     "start_time": "2019-11-20T12:31:25.650048Z"
    }
   },
   "outputs": [
    {
     "name": "stdout",
     "output_type": "stream",
     "text": [
      "None3 , postponing registration\n",
      "Starting experimental run with id: 26\n"
     ]
    }
   ],
   "source": [
    "exp = select_experiment('pinchoff', 'test_sample')\n",
    "meas = Measurement(exp, station)\n",
    "r = pysweep.sweep(init_measurement,\n",
    "                  end_measurement,\n",
    "                  measure, \n",
    "              pysweep.sweep_object(T1, np.linspace(0,-1.2,51)), \n",
    "              conv.add_function(pysweep.sweep_object(T2, np.linspace(0,-1.2,51)), measure_temperature), \n",
    "              databackend = pysweep.databackends.qcodes.DataBackend(meas)\n",
    "            )"
   ]
  },
  {
   "cell_type": "code",
   "execution_count": 17,
   "metadata": {
    "ExecuteTime": {
     "end_time": "2019-11-20T12:31:27.774396Z",
     "start_time": "2019-11-20T12:31:26.929649Z"
    }
   },
   "outputs": [
    {
     "data": {
      "text/plain": [
       "([<matplotlib.axes._subplots.AxesSubplot at 0x1ce12c5fd48>,\n",
       "  <matplotlib.axes._subplots.AxesSubplot at 0x1ce12e86d88>],\n",
       " [None, <matplotlib.colorbar.Colorbar at 0x1ce12ec5f48>])"
      ]
     },
     "execution_count": 17,
     "metadata": {},
     "output_type": "execute_result"
    },
    {
     "data": {
      "image/png": "[encoded data removed]",
      "text/plain": [
       "<Figure size 432x288 with 1 Axes>"
      ]
     },
     "metadata": {
      "needs_background": "light"
     },
     "output_type": "display_data"
    },
    {
     "data": {
      "image/png": "[encoded data removed]",
      "text/plain": [
       "<Figure size 432x288 with 2 Axes>"
      ]
     },
     "metadata": {
      "needs_background": "light"
     },
     "output_type": "display_data"
    }
   ],
   "source": [
    "qcodes.dataset.plotting.plot_dataset(r.datasaver.dataset)"
   ]
  },
  {
   "cell_type": "markdown",
   "metadata": {},
   "source": [
    "# Hardware sweep"
   ]
  },
  {
   "cell_type": "markdown",
   "metadata": {},
   "source": [
    "## Measurement functions returning an array of coordinates and array of data"
   ]
  },
  {
   "cell_type": "markdown",
   "metadata": {},
   "source": [
    "Several instruments internally perform a 1D (or multi-D) sweep and return an array values. For example VNA will return an array representing full dependence S21(f), which we may want to repeat as a function of some other parameter."
   ]
  },
  {
   "cell_type": "code",
   "execution_count": 19,
   "metadata": {
    "ExecuteTime": {
     "end_time": "2019-11-20T12:35:42.867592Z",
     "start_time": "2019-11-20T12:35:42.856626Z"
    }
   },
   "outputs": [],
   "source": [
    "@MakeMeasurementFunction([['frequency', 'Herz', 'array', True], ['S11', 'dB', 'array']])\n",
    "def transmission_vs_frequency_measurement_function(d):\n",
    "    frequency_sweep_range = np.linspace(80e6, 120e6, 201)\n",
    "    measured_S21 = S21(frequency_sweep_range)\n",
    "    return [frequency_sweep_range, measured_S21]"
   ]
  },
  {
   "cell_type": "markdown",
   "metadata": {},
   "source": [
    "Where we make explicit in the parameter definition that frequency and S11 are parameters of type array and that frequency is an independent parameter"
   ]
  },
  {
   "cell_type": "markdown",
   "metadata": {},
   "source": [
    "When running the measurement, ensure to reopen T2 to measure the pinchoff along T1"
   ]
  },
  {
   "cell_type": "code",
   "execution_count": 20,
   "metadata": {
    "ExecuteTime": {
     "end_time": "2019-11-20T12:35:44.656756Z",
     "start_time": "2019-11-20T12:35:44.469256Z"
    }
   },
   "outputs": [
    {
     "name": "stdout",
     "output_type": "stream",
     "text": [
      "None3 , postponing registration\n",
      "None2 , postponing registration\n",
      "Starting experimental run with id: 27\n"
     ]
    }
   ],
   "source": [
    "exp = select_experiment('rf_pinchoff', 'test_sample')\n",
    "meas = Measurement(exp, station)\n",
    "T2(0)\n",
    "r = pysweep.sweep(init_measurement, end_measurement, \n",
    "                  transmission_vs_frequency_measurement_function, \n",
    "              pysweep.sweep_object(T1, np.linspace(0,-1.2,51)), \n",
    "              databackend = pysweep.databackends.qcodes.DataBackend(meas)\n",
    "            )"
   ]
  },
  {
   "cell_type": "code",
   "execution_count": 21,
   "metadata": {
    "ExecuteTime": {
     "end_time": "2019-11-20T12:35:54.267601Z",
     "start_time": "2019-11-20T12:35:53.678147Z"
    }
   },
   "outputs": [
    {
     "data": {
      "text/plain": [
       "([<matplotlib.axes._subplots.AxesSubplot at 0x1ce12f19e88>],\n",
       " [<matplotlib.colorbar.Colorbar at 0x1ce12f9db08>])"
      ]
     },
     "execution_count": 21,
     "metadata": {},
     "output_type": "execute_result"
    },
    {
     "data": {
      "image/png": "[encoded data removed]",
      "text/plain": [
       "<Figure size 432x288 with 2 Axes>"
      ]
     },
     "metadata": {
      "needs_background": "light"
     },
     "output_type": "display_data"
    }
   ],
   "source": [
    "qcodes.dataset.plotting.plot_dataset(r.datasaver.dataset)"
   ]
  },
  {
   "cell_type": "markdown",
   "metadata": {},
   "source": [
    "## Frequency range as an argument"
   ]
  },
  {
   "cell_type": "markdown",
   "metadata": {},
   "source": [
    "It is often easier to define a function that constructs and returns a `MeasurementFunction` based on some input arguments. In the next example, we use the frequency range as an input argument to construct the correct `MeasurementFunction`"
   ]
  },
  {
   "cell_type": "code",
   "execution_count": 32,
   "metadata": {
    "ExecuteTime": {
     "end_time": "2019-11-20T12:48:38.978083Z",
     "start_time": "2019-11-20T12:48:38.968117Z"
    }
   },
   "outputs": [],
   "source": [
    "# A function that creates a measurement function\n",
    "def transmission_vs_frequency(frequency_sweep_range, suffix=''):\n",
    "    \n",
    "    # It is possible to tell pysweep in advance what frequency range we are sweeping over, \n",
    "    # which can assist life plotting\n",
    "    # For pysweep, it does not matter wether we define the frequency range at the start \n",
    "    # of the measurement enabling adaptive sweeps, see the previous example\n",
    "    # create a pysweep data parameter reperesenting a frequency\n",
    "    # it is neccesary to ensure that it is treated as an independent variable\n",
    "    frequency_parameter = DataParameterFixedAxis('Frequency'+suffix,\n",
    "                                        'Hz',\n",
    "                                        'array',\n",
    "                                        frequency_sweep_range)\n",
    "    \n",
    "    #                        data parameter\n",
    "    #                        for independent\n",
    "    #                        variable               name    unit       type\n",
    "    @MakeMeasurementFunction([frequency_parameter, ['S21'+suffix, 'arb. u.', 'array']])\n",
    "    def transmission_vs_frequency_measurement_function(d):\n",
    "        measured_S21 = S21(frequency_sweep_range)\n",
    "        return [frequency_sweep_range, measured_S21]\n",
    "    \n",
    "    # return a measurement function\n",
    "    return transmission_vs_frequency_measurement_function"
   ]
  },
  {
   "cell_type": "code",
   "execution_count": 23,
   "metadata": {
    "ExecuteTime": {
     "end_time": "2019-11-20T12:40:42.118166Z",
     "start_time": "2019-11-20T12:40:41.901749Z"
    }
   },
   "outputs": [
    {
     "name": "stdout",
     "output_type": "stream",
     "text": [
      "None3 , postponing registration\n",
      "None2 , postponing registration\n",
      "Starting experimental run with id: 28\n"
     ]
    }
   ],
   "source": [
    "exp = select_experiment('pinchoff', 'test_sample')\n",
    "meas = Measurement(exp, station)\n",
    "\n",
    "T1(0)\n",
    "T2(0)\n",
    "\n",
    "# let's measure current and transmission\n",
    "r = pysweep.sweep(init_measurement,\n",
    "                  end_measurement,\n",
    "                  measure+transmission_vs_frequency(np.linspace(80e6,120e6)), # a measurement function that returns anarray must be last to be added\n",
    "                  pysweep.sweep_object(T1, np.linspace(0,-1.2,51)), \n",
    "                  databackend=pysweep.databackends.qcodes.DataBackend(meas)\n",
    "            )"
   ]
  },
  {
   "cell_type": "code",
   "execution_count": 24,
   "metadata": {
    "ExecuteTime": {
     "end_time": "2019-11-20T12:40:43.660626Z",
     "start_time": "2019-11-20T12:40:42.672783Z"
    },
    "scrolled": false
   },
   "outputs": [
    {
     "data": {
      "text/plain": [
       "([<matplotlib.axes._subplots.AxesSubplot at 0x1ce12c66a08>,\n",
       "  <matplotlib.axes._subplots.AxesSubplot at 0x1ce127bd588>],\n",
       " [None, <matplotlib.colorbar.Colorbar at 0x1ce126a3a88>])"
      ]
     },
     "execution_count": 24,
     "metadata": {},
     "output_type": "execute_result"
    },
    {
     "data": {
      "image/png": "[encoded data removed]",
      "text/plain": [
       "<Figure size 432x288 with 1 Axes>"
      ]
     },
     "metadata": {
      "needs_background": "light"
     },
     "output_type": "display_data"
    },
    {
     "data": {
      "image/png": "[encoded data removed]",
      "text/plain": [
       "<Figure size 432x288 with 2 Axes>"
      ]
     },
     "metadata": {
      "needs_background": "light"
     },
     "output_type": "display_data"
    }
   ],
   "source": [
    "qcodes.dataset.plotting.plot_dataset(r.datasaver.dataset)"
   ]
  },
  {
   "cell_type": "markdown",
   "metadata": {},
   "source": [
    "# A note on parameter dependencies"
   ]
  },
  {
   "cell_type": "markdown",
   "metadata": {},
   "source": [
    "To figure out which parameters depend on which parameters, pysweep uses a simple rule: every parameter depends on ALL independent parameters that occur earlier in the `paramstruct`\n",
    "\n",
    "looking at the paramstruct of the previous measurement:"
   ]
  },
  {
   "cell_type": "code",
   "execution_count": 25,
   "metadata": {
    "ExecuteTime": {
     "end_time": "2019-11-20T12:42:30.522208Z",
     "start_time": "2019-11-20T12:42:30.515048Z"
    }
   },
   "outputs": [
    {
     "data": {
      "text/plain": [
       "['None3', 'None2', 'T1', 'current', 'Frequency', 'S21']"
      ]
     },
     "execution_count": 25,
     "metadata": {},
     "output_type": "execute_result"
    }
   ],
   "source": [
    "r.columns"
   ]
  },
  {
   "cell_type": "markdown",
   "metadata": {},
   "source": [
    "This assumption is usually correct but can lead to problems, for example in the next measurement which does not work\n",
    "Because of the preceding rule, pysweep expects in the following piece of code that `current` will depend on `frequency`, which is of course not the case."
   ]
  },
  {
   "cell_type": "code",
   "execution_count": 26,
   "metadata": {
    "ExecuteTime": {
     "end_time": "2019-11-20T12:43:06.455434Z",
     "start_time": "2019-11-20T12:43:06.334760Z"
    }
   },
   "outputs": [
    {
     "name": "stdout",
     "output_type": "stream",
     "text": [
      "None3 , postponing registration\n",
      "None2 , postponing registration\n",
      "Starting experimental run with id: 29\n"
     ]
    },
    {
     "name": "stderr",
     "output_type": "stream",
     "text": [
      "An exception occured in measurement with guid: aaaaaaaa-0000-0000-0000-016e88d6750e;\n",
      "Traceback:\n",
      "Traceback (most recent call last):\n",
      "  File \"c:\\users\\damaz de jong\\pycharmprojects\\pysweep\\pysweep\\__init__.py\", line 132, in sweep\n",
      "    pysweep_datasaver.add_to_line(list(zip(colnames, data)))\n",
      "  File \"c:\\users\\damaz de jong\\pycharmprojects\\pysweep\\pysweep\\databackends\\qcodes.py\", line 54, in add_to_line\n",
      "    self.datasaver.add_result(*newline)\n",
      "  File \"C:\\Anaconda3\\envs\\qcodes-env2\\lib\\site-packages\\qcodes\\dataset\\measurements.py\", line 165, in add_result\n",
      "    self._validate_result_shapes(results_dict)\n",
      "  File \"C:\\Anaconda3\\envs\\qcodes-env2\\lib\\site-packages\\qcodes\\dataset\\measurements.py\", line 346, in _validate_result_shapes\n",
      "    raise ValueError(f'Incompatible shapes. Parameter '\n",
      "ValueError: Incompatible shapes. Parameter current has shape (), but its setpoint Frequency has shape (50,).\n",
      "\n"
     ]
    },
    {
     "name": "stdout",
     "output_type": "stream",
     "text": [
      "Incompatible shapes. Parameter current has shape (), but its setpoint Frequency has shape (50,).\n"
     ]
    }
   ],
   "source": [
    "exp = select_experiment('rf_pinchoff', 'test_sample')\n",
    "meas = Measurement(exp, station)\n",
    "T2(0)\n",
    "try:\n",
    "    r = pysweep.sweep(init_measurement, end_measurement, transmission_vs_frequency(np.linspace(80e6,120e6))+measure, \n",
    "                  pysweep.sweep_object(T1, np.linspace(0,-1.2,51)), \n",
    "                  databackend = pysweep.databackends.qcodes.DataBackend(meas)\n",
    "                )\n",
    "except ValueError as e:\n",
    "    print(e)"
   ]
  },
  {
   "cell_type": "markdown",
   "metadata": {},
   "source": [
    "### Simple solution"
   ]
  },
  {
   "cell_type": "markdown",
   "metadata": {},
   "source": [
    "Switching around the two measurement functions solves this issue:"
   ]
  },
  {
   "cell_type": "code",
   "execution_count": 28,
   "metadata": {
    "ExecuteTime": {
     "end_time": "2019-11-20T12:43:55.420869Z",
     "start_time": "2019-11-20T12:43:55.238356Z"
    }
   },
   "outputs": [
    {
     "name": "stdout",
     "output_type": "stream",
     "text": [
      "None3 , postponing registration\n",
      "None2 , postponing registration\n",
      "Starting experimental run with id: 31\n"
     ]
    }
   ],
   "source": [
    "exp = select_experiment('rf_pinchoff', 'test_sample')\n",
    "meas = Measurement(exp, station)\n",
    "T2(0)\n",
    "r = pysweep.sweep(init_measurement, end_measurement, measure+transmission_vs_frequency(np.linspace(80e6,120e6)), \n",
    "                  pysweep.sweep_object(T1, np.linspace(0,-1.2,51)), \n",
    "                  databackend = pysweep.databackends.qcodes.DataBackend(meas)\n",
    "                )"
   ]
  },
  {
   "cell_type": "code",
   "execution_count": 29,
   "metadata": {
    "ExecuteTime": {
     "end_time": "2019-11-20T12:43:57.010656Z",
     "start_time": "2019-11-20T12:43:56.141462Z"
    },
    "scrolled": false
   },
   "outputs": [
    {
     "data": {
      "text/plain": [
       "([<matplotlib.axes._subplots.AxesSubplot at 0x1ce12da3c08>,\n",
       "  <matplotlib.axes._subplots.AxesSubplot at 0x1ce12416cc8>],\n",
       " [None, <matplotlib.colorbar.Colorbar at 0x1ce12b0a448>])"
      ]
     },
     "execution_count": 29,
     "metadata": {},
     "output_type": "execute_result"
    },
    {
     "data": {
      "image/png": "[encoded data removed]",
      "text/plain": [
       "<Figure size 432x288 with 1 Axes>"
      ]
     },
     "metadata": {
      "needs_background": "light"
     },
     "output_type": "display_data"
    },
    {
     "data": {
      "image/png": "[encoded data removed]",
      "text/plain": [
       "<Figure size 432x288 with 2 Axes>"
      ]
     },
     "metadata": {
      "needs_background": "light"
     },
     "output_type": "display_data"
    }
   ],
   "source": [
    "qcodes.dataset.plotting.plot_dataset(r.datasaver.dataset)"
   ]
  },
  {
   "cell_type": "markdown",
   "metadata": {},
   "source": [
    "### Advanced solution"
   ]
  },
  {
   "cell_type": "markdown",
   "metadata": {},
   "source": [
    "In some cases it might be the case that both orders will not work. The usecase might be two incompatible hardware sweeps bundeled together.\n"
   ]
  },
  {
   "cell_type": "markdown",
   "metadata": {},
   "source": [
    "Pysweep (with the qcodes backend) only allows one parameter with the same name per measurement, to avoid overwriting data. So the following code will return an error"
   ]
  },
  {
   "cell_type": "code",
   "execution_count": 42,
   "metadata": {
    "ExecuteTime": {
     "end_time": "2019-11-20T12:57:58.574389Z",
     "start_time": "2019-11-20T12:57:58.540483Z"
    }
   },
   "outputs": [
    {
     "name": "stdout",
     "output_type": "stream",
     "text": [
      "None3 , postponing registration\n",
      "None2 , postponing registration\n",
      "Parameter name Frequency occurs multiple times in paramstruct\n"
     ]
    }
   ],
   "source": [
    "exp = select_experiment('rf_pinchoff', 'test_sample')\n",
    "meas = Measurement(exp, station)\n",
    "T2(0)\n",
    "try:\n",
    "    r = pysweep.sweep(init_measurement, end_measurement, \n",
    "                  transmission_vs_frequency(np.linspace(80e6,120e6, 11))+\n",
    "                      transmission_vs_frequency(np.linspace(80e6,120e6, 101)), \n",
    "                  pysweep.sweep_object(T1, np.linspace(0,-1.2,51)), \n",
    "                  databackend = pysweep.databackends.qcodes.DataBackend(meas)\n",
    "                )\n",
    "except ValueError as e:\n",
    "    print(e)"
   ]
  },
  {
   "cell_type": "markdown",
   "metadata": {},
   "source": [
    "By using the `suffix` kwarg we can change the names on the fly, the following measurement will however still not work since the datashapes seem incompatible since pysweep incorrectly inferes the dependencies"
   ]
  },
  {
   "cell_type": "code",
   "execution_count": 43,
   "metadata": {
    "ExecuteTime": {
     "end_time": "2019-11-20T12:58:00.903827Z",
     "start_time": "2019-11-20T12:58:00.783154Z"
    }
   },
   "outputs": [
    {
     "name": "stdout",
     "output_type": "stream",
     "text": [
      "None3 , postponing registration\n",
      "None2 , postponing registration\n",
      "Starting experimental run with id: 37\n"
     ]
    },
    {
     "name": "stderr",
     "output_type": "stream",
     "text": [
      "An exception occured in measurement with guid: aaaaaaaa-0000-0000-0000-016e88e41afa;\n",
      "Traceback:\n",
      "Traceback (most recent call last):\n",
      "  File \"c:\\users\\damaz de jong\\pycharmprojects\\pysweep\\pysweep\\__init__.py\", line 132, in sweep\n",
      "    pysweep_datasaver.add_to_line(list(zip(colnames, data)))\n",
      "  File \"c:\\users\\damaz de jong\\pycharmprojects\\pysweep\\pysweep\\databackends\\qcodes.py\", line 54, in add_to_line\n",
      "    self.datasaver.add_result(*newline)\n",
      "  File \"C:\\Anaconda3\\envs\\qcodes-env2\\lib\\site-packages\\qcodes\\dataset\\measurements.py\", line 165, in add_result\n",
      "    self._validate_result_shapes(results_dict)\n",
      "  File \"C:\\Anaconda3\\envs\\qcodes-env2\\lib\\site-packages\\qcodes\\dataset\\measurements.py\", line 346, in _validate_result_shapes\n",
      "    raise ValueError(f'Incompatible shapes. Parameter '\n",
      "ValueError: Incompatible shapes. Parameter S21_2 has shape (101,), but its setpoint Frequency_1 has shape (11,).\n",
      "\n"
     ]
    },
    {
     "name": "stdout",
     "output_type": "stream",
     "text": [
      "Incompatible shapes. Parameter S21_2 has shape (101,), but its setpoint Frequency_1 has shape (11,).\n"
     ]
    }
   ],
   "source": [
    "exp = select_experiment('rf_pinchoff', 'test_sample')\n",
    "meas = Measurement(exp, station)\n",
    "T2(0)\n",
    "try:\n",
    "    r = pysweep.sweep(init_measurement, end_measurement, \n",
    "                  transmission_vs_frequency(np.linspace(80e6,120e6, 11), suffix='_1')+\n",
    "                      transmission_vs_frequency(np.linspace(80e6,120e6, 101), suffix='_2'), \n",
    "                  pysweep.sweep_object(T1, np.linspace(0,-1.2,51)), \n",
    "                  databackend = pysweep.databackends.qcodes.DataBackend(meas)\n",
    "                )\n",
    "except ValueError as e:\n",
    "    print(e)"
   ]
  },
  {
   "cell_type": "markdown",
   "metadata": {
    "ExecuteTime": {
     "end_time": "2019-11-20T12:53:09.428975Z",
     "start_time": "2019-11-20T12:53:09.417043Z"
    }
   },
   "source": [
    "In this case the issue can also be resolved by explicitely telling pysweep that frequency and S11 are together and do not interfere with any other parameter.\n",
    "Because the implicit syntax for the dataparameters gets confusing, I'll use the explicit notation here"
   ]
  },
  {
   "cell_type": "code",
   "execution_count": 44,
   "metadata": {
    "ExecuteTime": {
     "end_time": "2019-11-20T12:58:05.404768Z",
     "start_time": "2019-11-20T12:58:05.393798Z"
    }
   },
   "outputs": [],
   "source": [
    "# A function that creates a measurement function\n",
    "def transmission_vs_frequency_explicit(frequency_sweep_range, suffix=''):\n",
    "    \n",
    "    @MakeMeasurementFunction([pysweep.DataParameter(name='frequency'+suffix,\n",
    "                                               unit='Hz',\n",
    "                                               paramtype='array',\n",
    "                                               # yes independent, but pysweep will not recognize it as such\n",
    "                                               independent=2  \n",
    "                                            ),\n",
    "                         pysweep.DataParameter(name='S21'+suffix, \n",
    "                                              unit='dB',\n",
    "                                              paramtype='array',\n",
    "                                               # explicitely tell that this parameter depends on \n",
    "                                               # the corresponding frequency parameter\n",
    "                                              extra_dependencies=['frequency'+suffix]  \n",
    "                                              )])\n",
    "    def transmission_vs_frequency_measurement_function(d):\n",
    "        measured_S21 = S21(frequency_sweep_range)\n",
    "        return [frequency_sweep_range, measured_S21]\n",
    "    \n",
    "    # return a measurement function\n",
    "    return transmission_vs_frequency_measurement_function"
   ]
  },
  {
   "cell_type": "code",
   "execution_count": 45,
   "metadata": {
    "ExecuteTime": {
     "end_time": "2019-11-20T12:58:06.337342Z",
     "start_time": "2019-11-20T12:58:06.102965Z"
    },
    "scrolled": true
   },
   "outputs": [
    {
     "name": "stdout",
     "output_type": "stream",
     "text": [
      "None3 , postponing registration\n",
      "None2 , postponing registration\n",
      "Starting experimental run with id: 38\n"
     ]
    }
   ],
   "source": [
    "exp = select_experiment('rf_pinchoff', 'test_sample')\n",
    "meas = Measurement(exp, station)\n",
    "T2(0)\n",
    "r = pysweep.sweep(init_measurement, end_measurement, \n",
    "                  transmission_vs_frequency_explicit(np.linspace(80e6,120e6, 11), suffix='_1')+\n",
    "                  transmission_vs_frequency_explicit(np.linspace(80e6,120e6, 101), suffix='_2'), \n",
    "                  pysweep.sweep_object(T1, np.linspace(0,-1.2,51)), \n",
    "                  databackend = pysweep.databackends.qcodes.DataBackend(meas)\n",
    "                )"
   ]
  },
  {
   "cell_type": "code",
   "execution_count": 46,
   "metadata": {
    "ExecuteTime": {
     "end_time": "2019-11-20T12:58:08.987703Z",
     "start_time": "2019-11-20T12:58:07.688135Z"
    }
   },
   "outputs": [
    {
     "data": {
      "text/plain": [
       "([<matplotlib.axes._subplots.AxesSubplot at 0x1ce141b0cc8>,\n",
       "  <matplotlib.axes._subplots.AxesSubplot at 0x1ce1433db08>],\n",
       " [<matplotlib.colorbar.Colorbar at 0x1ce143c0048>,\n",
       "  <matplotlib.colorbar.Colorbar at 0x1ce143fe548>])"
      ]
     },
     "execution_count": 46,
     "metadata": {},
     "output_type": "execute_result"
    },
    {
     "data": {
      "image/png": "[encoded data removed]",
      "text/plain": [
       "<Figure size 432x288 with 2 Axes>"
      ]
     },
     "metadata": {
      "needs_background": "light"
     },
     "output_type": "display_data"
    },
    {
     "data": {
      "image/png": "[encoded data removed]",
      "text/plain": [
       "<Figure size 432x288 with 2 Axes>"
      ]
     },
     "metadata": {
      "needs_background": "light"
     },
     "output_type": "display_data"
    }
   ],
   "source": [
    "qcodes.dataset.plotting.plot_dataset(r.datasaver.dataset)"
   ]
  },
  {
   "cell_type": "markdown",
   "metadata": {
    "heading_collapsed": true
   },
   "source": [
    "# Adaptive sweep - under construction"
   ]
  },
  {
   "cell_type": "code",
   "execution_count": null,
   "metadata": {
    "ExecuteTime": {
     "end_time": "2019-09-11T15:36:36.580663Z",
     "start_time": "2019-09-11T15:36:36.576662Z"
    },
    "hidden": true
   },
   "outputs": [],
   "source": [
    "@MakeMeasurementFunction([['timestamp', 's']])\n",
    "def smart_point_function(dict_waterfall):\n",
    "    timestamp = int(time.time())\n",
    "    points = [int(c) for c in str(timestamp)]\n",
    "    return points, [timestamp]"
   ]
  },
  {
   "cell_type": "code",
   "execution_count": null,
   "metadata": {
    "ExecuteTime": {
     "end_time": "2019-09-11T15:36:36.651851Z",
     "start_time": "2019-09-11T15:36:36.582658Z"
    },
    "hidden": true
   },
   "outputs": [],
   "source": [
    "db = pysweep.databackends.debug.DebugDataBackend()\n",
    "pysweep.sweep(lambda d:{}, lambda d:{}, measure, \n",
    "              pysweep.sweep_object(a, [0,1]),\n",
    "              conv.add_function(pysweep.sweep_object(b, [3,4]), measure_temperature),\n",
    "              pysweep.sweep_object(c, smart_point_function, dataparameter=np.linspace(0,9,10)), databackend=db\n",
    "             )"
   ]
  },
  {
   "cell_type": "markdown",
   "metadata": {
    "heading_collapsed": true
   },
   "source": [
    "# Real life example - under construction"
   ]
  },
  {
   "cell_type": "code",
   "execution_count": null,
   "metadata": {
    "hidden": true
   },
   "outputs": [],
   "source": [
    "%%enqueue single_shot_readout\n",
    "exp = select_experiment('blobs', SAMPLE)\n",
    "meas = Measurement(exp, station)\n",
    "singleshot_dataextractor.setup_acquisition(1024, 1000, 100)\n",
    "#4.77946e9\n",
    "parameter_list = [[station.TI.NW_bias, 0e-3], [station.HT.frequency, 4779770000], [station.HT.RF.power, -20.25]]\n",
    "\n",
    "pysweep.sweep(sf.set_parameters_after(init_rf, parameter_list), end_rf, \n",
    "              measure_singleshot_rf,\n",
    "              pysweep.sweep_object(station.TI.SP4, snr_calibrate_plunger(pysweep.sweep_object(station.TI.SP4, np.linspace(0., 0.4, 101))), dataparameter=[0,1]),\n",
    "              pysweep.convenience.add_function(pysweep.sweep_object(station.TI.T5, np.linspace(-1, -1.35, 101)), csc),\n",
    "              databackend = pysweep.databackends.qcodes.DataBackend(meas)\n",
    "             )\n",
    "rigol.ch1_output_enabled(False)"
   ]
  },
  {
   "cell_type": "markdown",
   "metadata": {
    "heading_collapsed": true
   },
   "source": [
    "# Jagged Data Structures - under construction"
   ]
  },
  {
   "cell_type": "code",
   "execution_count": null,
   "metadata": {
    "hidden": true
   },
   "outputs": [],
   "source": [
    "?DataParameter"
   ]
  },
  {
   "cell_type": "code",
   "execution_count": null,
   "metadata": {
    "hidden": true
   },
   "outputs": [],
   "source": [
    "@MakeMeasurementFunction([DataParameter('time', 's', 'array', 2),\n",
    "                         DataParameter('first_gate', 'V', 'array', 2),\n",
    "                         DataParameter('second_gate', 'V', 'array', 2),\n",
    "                         DataParameter('first_gate_result', 'I', 'array', extra_dependencies=['time', 'first_gate']),\n",
    "                         DataParameter('time', 's', 'array', 2, duplicate=True),\n",
    "                         DataParameter('second_gate_result', 'I', 'array', extra_dependencies=['time', 'second_gate'])])\n",
    "def some_arbitrary_data(d):\n",
    "    return [np.linspace(0,1, 11), np.linspace(0,0.1, 11), np.linspace(0,-0.1, 21), np.linspace(0,0.2, 11), np.linspace(1,2, 21), np.linspace(0,-0.2, 21)]"
   ]
  },
  {
   "cell_type": "code",
   "execution_count": null,
   "metadata": {
    "hidden": true
   },
   "outputs": [],
   "source": [
    "importlib.reload(pysweep.databackends.qcodes)"
   ]
  },
  {
   "cell_type": "code",
   "execution_count": null,
   "metadata": {
    "hidden": true
   },
   "outputs": [],
   "source": [
    "exp = select_experiment('jagged_data', 'test')\n",
    "meas = Measurement(exp, station)\n",
    "\n",
    "pysweep.sweep(init_measurement, end_measurement, \n",
    "              some_arbitrary_data,\n",
    "              pysweep.sweep_object(T1, np.linspace(0,1,2)),\n",
    "              databackend = pysweep.databackends.qcodes.CutDataBackend(meas)\n",
    "             )"
   ]
  },
  {
   "cell_type": "code",
   "execution_count": null,
   "metadata": {
    "hidden": true
   },
   "outputs": [],
   "source": []
  },
  {
   "cell_type": "code",
   "execution_count": null,
   "metadata": {
    "hidden": true
   },
   "outputs": [],
   "source": [
    "raw_data = load_by_id(12)\n",
    "data = raw_data.get_parameter_data()"
   ]
  },
  {
   "cell_type": "code",
   "execution_count": null,
   "metadata": {
    "hidden": true
   },
   "outputs": [],
   "source": [
    "raw_data"
   ]
  },
  {
   "cell_type": "code",
   "execution_count": null,
   "metadata": {
    "hidden": true
   },
   "outputs": [],
   "source": [
    "data['first_gate_result']['first_gate_result']"
   ]
  },
  {
   "cell_type": "code",
   "execution_count": null,
   "metadata": {
    "hidden": true
   },
   "outputs": [],
   "source": [
    "plt.plot(data['first_gate_result']['first_gate'][0], data['first_gate_result']['first_gate_result'][0], '.')\n",
    "plt.show()\n",
    "plt.plot(data['second_gate_result']['second_gate'][0], data['second_gate_result']['second_gate_result'][0], '.')\n",
    "plt.show()\n",
    "plt.plot(data['first_gate_result']['time'][0], data['first_gate_result']['first_gate_result'][0], '.')\n",
    "plt.plot(data['second_gate_result']['time'][0], data['second_gate_result']['second_gate_result'][0], '.')\n",
    "plt.xlabel('time')\n",
    "plt.ylabel('gate_result')\n",
    "plt.show()"
   ]
  },
  {
   "cell_type": "code",
   "execution_count": null,
   "metadata": {
    "hidden": true
   },
   "outputs": [],
   "source": [
    "from plottr.data.datadict import datadict_to_meshgrid\n",
    "from plottr.data.qcodes_dataset import ds_to_datadict"
   ]
  },
  {
   "cell_type": "code",
   "execution_count": null,
   "metadata": {
    "hidden": true
   },
   "outputs": [],
   "source": [
    "def load(runid):\n",
    "    return datadict_to_meshgrid(ds_to_datadict(load_by_id(runid)))"
   ]
  },
  {
   "cell_type": "code",
   "execution_count": null,
   "metadata": {
    "hidden": true
   },
   "outputs": [],
   "source": [
    "ds = ds_to_datadict(load_by_id(12))"
   ]
  },
  {
   "cell_type": "code",
   "execution_count": null,
   "metadata": {
    "hidden": true
   },
   "outputs": [],
   "source": [
    "from plottr.node.data_selector import DataSelector"
   ]
  },
  {
   "cell_type": "code",
   "execution_count": null,
   "metadata": {
    "hidden": true
   },
   "outputs": [],
   "source": [
    "dataselector = DataSelector('dataselector')"
   ]
  },
  {
   "cell_type": "code",
   "execution_count": null,
   "metadata": {
    "hidden": true
   },
   "outputs": [],
   "source": [
    "ds"
   ]
  },
  {
   "cell_type": "code",
   "execution_count": null,
   "metadata": {
    "hidden": true
   },
   "outputs": [],
   "source": [
    "ds2 = ds.extract(['first_gate_result'])"
   ]
  },
  {
   "cell_type": "code",
   "execution_count": null,
   "metadata": {
    "hidden": true
   },
   "outputs": [],
   "source": [
    "ds3 = datadict_to_meshgrid(ds2)\n",
    "ds3.validate()"
   ]
  },
  {
   "cell_type": "code",
   "execution_count": null,
   "metadata": {
    "hidden": true
   },
   "outputs": [],
   "source": [
    "ds3.shape()"
   ]
  },
  {
   "cell_type": "code",
   "execution_count": null,
   "metadata": {
    "hidden": true
   },
   "outputs": [],
   "source": [
    "ds3.structure(), ds3.shapes()"
   ]
  },
  {
   "cell_type": "code",
   "execution_count": null,
   "metadata": {
    "hidden": true
   },
   "outputs": [],
   "source": [
    "ds3.sanitize()"
   ]
  },
  {
   "cell_type": "code",
   "execution_count": null,
   "metadata": {
    "hidden": true
   },
   "outputs": [],
   "source": []
  }
 ],
 "metadata": {
  "kernelspec": {
   "display_name": "Python [conda env:qcodes-env2]",
   "language": "python",
   "name": "conda-env-qcodes-env2-py"
  },
  "language_info": {
   "codemirror_mode": {
    "name": "ipython",
    "version": 3
   },
   "file_extension": ".py",
   "mimetype": "text/x-python",
   "name": "python",
   "nbconvert_exporter": "python",
   "pygments_lexer": "ipython3",
   "version": "3.7.4"
  },
  "toc": {
   "base_numbering": 1,
   "nav_menu": {},
   "number_sections": true,
   "sideBar": true,
   "skip_h1_title": false,
   "title_cell": "Table of Contents",
   "title_sidebar": "Contents",
   "toc_cell": false,
   "toc_position": {},
   "toc_section_display": true,
   "toc_window_display": true
  }
 },
 "nbformat": 4,
 "nbformat_minor": 4
}
