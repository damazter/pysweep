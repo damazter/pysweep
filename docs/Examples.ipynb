{
 "cells": [
  {
   "cell_type": "markdown",
   "metadata": {},
   "source": [
    "# Imports"
   ]
  },
  {
   "cell_type": "code",
   "execution_count": 1,
   "metadata": {
    "ExecuteTime": {
     "end_time": "2019-11-18T16:36:05.880354Z",
     "start_time": "2019-11-18T16:36:00.246253Z"
    }
   },
   "outputs": [],
   "source": [
    "import pysweep\n",
    "import qcodes as qc\n",
    "import pysweep.databackends.debug\n",
    "import pysweep.databackends.list_backend\n",
    "import pysweep.databackends.qcodes\n",
    "import pysweep.core.measurementfunctions\n",
    "from pysweep.core.sweepobject import SweepObject\n",
    "from pysweep.core.measurementfunctions import MakeMeasurementFunction\n",
    "import pysweep.convenience as conv\n",
    "import random\n",
    "import time\n",
    "import numpy as np\n",
    "import pandas as pd\n",
    "\n",
    "import matplotlib.pyplot as plt"
   ]
  },
  {
   "cell_type": "code",
   "execution_count": 2,
   "metadata": {
    "ExecuteTime": {
     "end_time": "2019-11-18T16:36:05.922243Z",
     "start_time": "2019-11-18T16:36:05.885342Z"
    }
   },
   "outputs": [
    {
     "name": "stderr",
     "output_type": "stream",
     "text": [
      "C:\\Anaconda3\\envs\\qcodes-env2\\lib\\site-packages\\qcodes\\dataset\\sqlite_base.py:51: UserWarning: The module `qcodes.dataset.sqlite_base` is deprecated.\n",
      "Public features are available at the import of `qcodes`.\n",
      "Private features are available in `qcodes.dataset.sqlite.*` modules.\n",
      "  warnings.warn('The module `qcodes.dataset.sqlite_base` is deprecated.\\n'\n"
     ]
    }
   ],
   "source": [
    "from pysweep.databackends.base import DataParameter\n",
    "from pytopo.qctools.dataset2 import select_experiment\n",
    "from qcodes.dataset.measurements import Measurement\n",
    "\n",
    "from qcodes import load_by_id\n",
    "import qcodes as qc\n",
    "import qcodes.dataset.plotting\n",
    "import importlib"
   ]
  },
  {
   "cell_type": "code",
   "execution_count": 3,
   "metadata": {
    "ExecuteTime": {
     "end_time": "2019-11-18T16:36:05.945182Z",
     "start_time": "2019-11-18T16:36:05.928226Z"
    }
   },
   "outputs": [],
   "source": [
    "station = qc.Station()\n",
    "pysweep.STATION = station\n",
    "qc.config.core.db_location = r'testdata.db'\n",
    "qc.initialise_database()"
   ]
  },
  {
   "cell_type": "markdown",
   "metadata": {},
   "source": [
    "# Define a few parameters with physics"
   ]
  },
  {
   "cell_type": "code",
   "execution_count": 4,
   "metadata": {
    "ExecuteTime": {
     "end_time": "2019-11-18T16:36:05.982082Z",
     "start_time": "2019-11-18T16:36:05.950168Z"
    }
   },
   "outputs": [],
   "source": [
    "bias = qc.instrument.parameter.ManualParameter(\"bias\", units=\"V\")\n",
    "T1 = qc.instrument.parameter.ManualParameter(\"T1\", units=\"V\")\n",
    "T2 = qc.instrument.parameter.ManualParameter(\"T2\", units=\"V\")\n",
    "\n",
    "bias(0)\n",
    "T1(0)\n",
    "T2(0)\n",
    "\n",
    "def pinchoff(v, rs=10e3, l=2e-6, muc=3*60e-18, vth=-1):\n",
    "    if v>vth:\n",
    "        return (rs+l**2/(muc*(v-vth)))\n",
    "    else:\n",
    "        return 1e11\n",
    "\n",
    "def get_current():\n",
    "    u = bias()\n",
    "    r = pinchoff(T1())+pinchoff(T2())\n",
    "    return u/r\n",
    "current = qc.instrument.parameter.Parameter(\"current\", units=\"A\", get_cmd=get_current)\n",
    "\n"
   ]
  },
  {
   "cell_type": "markdown",
   "metadata": {},
   "source": [
    "# Define the functions that define the measurement"
   ]
  },
  {
   "cell_type": "markdown",
   "metadata": {},
   "source": [
    "We need to define what happens at the start of a measurement, what must happen at the end of a measurement and finally what a measurement entails"
   ]
  },
  {
   "cell_type": "code",
   "execution_count": 5,
   "metadata": {
    "ExecuteTime": {
     "end_time": "2019-11-18T16:36:06.048904Z",
     "start_time": "2019-11-18T16:36:06.040926Z"
    }
   },
   "outputs": [],
   "source": [
    "def init_measurement(d):\n",
    "    bias(1e-3)\n",
    "\n",
    "def end_measurement(d):\n",
    "    bias(0)"
   ]
  },
  {
   "cell_type": "markdown",
   "metadata": {},
   "source": [
    "Any measurement that pysweep does is encapsulated as a MeasurementFucntion class. It contains a function that returns the measurement results as a list, as well as a list containing the metadata for every return value, this list is called the `ParamStruct`"
   ]
  },
  {
   "cell_type": "code",
   "execution_count": 6,
   "metadata": {
    "ExecuteTime": {
     "end_time": "2019-11-18T16:36:06.674233Z",
     "start_time": "2019-11-18T16:36:06.665255Z"
    }
   },
   "outputs": [],
   "source": [
    "@MakeMeasurementFunction([pysweep.DataParameter(name='current', unit='A')])\n",
    "def measure(d):\n",
    "    return [current()]"
   ]
  },
  {
   "cell_type": "code",
   "execution_count": 7,
   "metadata": {
    "ExecuteTime": {
     "end_time": "2019-11-18T16:36:06.703154Z",
     "start_time": "2019-11-18T16:36:06.679222Z"
    }
   },
   "outputs": [
    {
     "data": {
      "text/plain": [
       "pysweep.core.measurementfunctions.MeasurementFunction"
      ]
     },
     "execution_count": 7,
     "metadata": {},
     "output_type": "execute_result"
    }
   ],
   "source": [
    "type(measure)"
   ]
  },
  {
   "cell_type": "code",
   "execution_count": 8,
   "metadata": {
    "ExecuteTime": {
     "end_time": "2019-11-18T16:36:06.938527Z",
     "start_time": "2019-11-18T16:36:06.929549Z"
    }
   },
   "outputs": [
    {
     "data": {
      "text/plain": [
       "[<class 'pysweep.databackends.base.DataParameter'> current A numeric False]"
      ]
     },
     "execution_count": 8,
     "metadata": {},
     "output_type": "execute_result"
    }
   ],
   "source": [
    "measure.paramstruct"
   ]
  },
  {
   "cell_type": "markdown",
   "metadata": {},
   "source": [
    "lets also define a function the measures the hypothetical temperature of our fridge\n",
    "Because the explicit definition opf the DataParameter is overly verbose, we introduce the shorthand:\n",
    "\n",
    "If an element `param` of the datastruct is not of type `DataParameter`, it will try to construct a dataparameters automatically as\n",
    "`DataParameter(*param)`\n",
    "as such we can define a measurementfunction as"
   ]
  },
  {
   "cell_type": "code",
   "execution_count": 9,
   "metadata": {
    "ExecuteTime": {
     "end_time": "2019-11-18T16:36:08.154273Z",
     "start_time": "2019-11-18T16:36:08.146294Z"
    }
   },
   "outputs": [],
   "source": [
    "@MakeMeasurementFunction([['Temperature', 'mK']])\n",
    "def measure_temperature(d):\n",
    "    return [random.randint(100, 300)/10]"
   ]
  },
  {
   "cell_type": "markdown",
   "metadata": {},
   "source": [
    "# Simple measurements - Simple Sweep objects"
   ]
  },
  {
   "cell_type": "markdown",
   "metadata": {},
   "source": [
    "Since we now have the functions that will be execute to measure something, we can now look at the code that will perform the sweeping"
   ]
  },
  {
   "cell_type": "markdown",
   "metadata": {},
   "source": [
    "In pysweep, sweeps are performed with `SweepObjects` which consist of 4 elements\n",
    "* set_function\n",
    "* unit\n",
    "* label\n",
    "* point_function"
   ]
  },
  {
   "cell_type": "markdown",
   "metadata": {},
   "source": [
    "For now, let us ignore the details and see how they can be constructed:\n",
    "\n",
    "`pysweep.sweep_object(T1, np.linspace(0,-1.2,51))`\n",
    "\n",
    "This encodes the idea of sweeping the `T1` gate from 0 to -1.2 in 51 steps (`np.linspace(0,-1.2,51)`)"
   ]
  },
  {
   "cell_type": "markdown",
   "metadata": {},
   "source": [
    "With this extra component, we have enouigh to start performing measurements. This paragraph contains some measurements that corresponds to the easiest cases of measurements. The cases cover 90% of all measurements that will run, but don't show the full power of pysweep"
   ]
  },
  {
   "cell_type": "code",
   "execution_count": null,
   "metadata": {
    "ExecuteTime": {
     "end_time": "2019-11-18T12:57:40.234624Z",
     "start_time": "2019-11-18T12:57:40.081918Z"
    }
   },
   "outputs": [],
   "source": [
    "exp = select_experiment('pinchoff', 'test_sample')\n",
    "meas = Measurement(exp, station)\n",
    "r = pysweep.sweep(init_measurement, end_measurement, measure, \n",
    "              pysweep.sweep_object(T1, np.linspace(0,-1.2,51)), \n",
    "              databackend = pysweep.databackends.qcodes.DataBackend(meas)\n",
    "            )"
   ]
  },
  {
   "cell_type": "code",
   "execution_count": null,
   "metadata": {
    "ExecuteTime": {
     "end_time": "2019-11-18T12:57:41.944052Z",
     "start_time": "2019-11-18T12:57:41.511210Z"
    }
   },
   "outputs": [],
   "source": [
    "qcodes.dataset.plotting.plot_by_id(r.datasaver.run_id)"
   ]
  },
  {
   "cell_type": "markdown",
   "metadata": {},
   "source": [
    "Adding another dimension is trivial, where we follow the rule that the inner most loop is at the top, closest to the `MeasurementFunction`"
   ]
  },
  {
   "cell_type": "code",
   "execution_count": null,
   "metadata": {
    "ExecuteTime": {
     "end_time": "2019-11-18T12:57:44.630873Z",
     "start_time": "2019-11-18T12:57:44.181076Z"
    }
   },
   "outputs": [],
   "source": [
    "exp = select_experiment('pinchoff', 'test_sample')\n",
    "meas = Measurement(exp, station)\n",
    "r = pysweep.sweep(init_measurement, end_measurement, measure, \n",
    "              pysweep.sweep_object(T1, np.linspace(0,-1.2,51)), \n",
    "              pysweep.sweep_object(T2, np.linspace(0,-1.2,51)), \n",
    "              databackend=pysweep.databackends.qcodes.DataBackend(meas)\n",
    "            )"
   ]
  },
  {
   "cell_type": "code",
   "execution_count": null,
   "metadata": {
    "ExecuteTime": {
     "end_time": "2019-11-18T12:57:45.907212Z",
     "start_time": "2019-11-18T12:57:45.341209Z"
    }
   },
   "outputs": [],
   "source": [
    "qcodes.dataset.plotting.plot_by_id(r.datasaver.run_id)"
   ]
  },
  {
   "cell_type": "markdown",
   "metadata": {},
   "source": [
    "# Extended examples"
   ]
  },
  {
   "cell_type": "markdown",
   "metadata": {},
   "source": [
    "Here are a few examples of measurements that are still relatively simples, but with a few more bells and whistles"
   ]
  },
  {
   "cell_type": "markdown",
   "metadata": {},
   "source": [
    "Say that we want to measure the fridge temperature in addition to the current. This can be done by creating the combined measurement object `measure+measure_temperature` and hence we simply execute"
   ]
  },
  {
   "cell_type": "code",
   "execution_count": null,
   "metadata": {
    "ExecuteTime": {
     "end_time": "2019-11-18T13:34:41.969501Z",
     "start_time": "2019-11-18T13:34:41.348106Z"
    }
   },
   "outputs": [],
   "source": [
    "exp = select_experiment('pinchoff', 'test_sample')\n",
    "meas = Measurement(exp, station)\n",
    "r = pysweep.sweep(init_measurement, end_measurement, measure+measure_temperature, \n",
    "              pysweep.sweep_object(T1, np.linspace(0,-1.2,51)), \n",
    "              pysweep.sweep_object(T2, np.linspace(0,-1.2,51)), \n",
    "              databackend=pysweep.databackends.qcodes.DataBackend(meas)\n",
    "            )"
   ]
  },
  {
   "cell_type": "code",
   "execution_count": null,
   "metadata": {
    "ExecuteTime": {
     "end_time": "2019-11-18T13:34:43.269023Z",
     "start_time": "2019-11-18T13:34:41.973428Z"
    }
   },
   "outputs": [],
   "source": [
    "qcodes.dataset.plotting.plot_by_id(r.datasaver.run_id)"
   ]
  },
  {
   "cell_type": "markdown",
   "metadata": {},
   "source": [
    "But often we only want to measure temperature every now and then, so let's assume that we want to measure the fridge tmeperature only after every time we set the T2 parameter"
   ]
  },
  {
   "cell_type": "code",
   "execution_count": null,
   "metadata": {
    "ExecuteTime": {
     "end_time": "2019-11-18T12:57:54.519200Z",
     "start_time": "2019-11-18T12:57:53.960723Z"
    }
   },
   "outputs": [],
   "source": [
    "exp = select_experiment('pinchoff', 'test_sample')\n",
    "meas = Measurement(exp, station)\n",
    "r = pysweep.sweep(init_measurement, end_measurement, measure, \n",
    "              pysweep.sweep_object(T1, np.linspace(0,-1.2,51)), \n",
    "              conv.add_function(pysweep.sweep_object(T2, np.linspace(0,-1.2,51)), measure_temperature), \n",
    "              databackend = pysweep.databackends.qcodes.DataBackend(meas)\n",
    "            )"
   ]
  },
  {
   "cell_type": "code",
   "execution_count": null,
   "metadata": {
    "ExecuteTime": {
     "end_time": "2019-11-18T12:57:56.325684Z",
     "start_time": "2019-11-18T12:57:55.361263Z"
    }
   },
   "outputs": [],
   "source": [
    "qcodes.dataset.plotting.plot_dataset(r.datasaver.dataset)"
   ]
  },
  {
   "cell_type": "markdown",
   "metadata": {},
   "source": [
    "# Hardware sweep"
   ]
  },
  {
   "cell_type": "markdown",
   "metadata": {},
   "source": [
    "Often, hardware is used to sweep one of the parameters instead of software. Pysweep deals with these situations natively. Let's assume that we use a VNA to measure a conductance resonator in the sample, we first define the code that measures the VNA. In this case we write a mock version of this to simulate the result"
   ]
  },
  {
   "cell_type": "code",
   "execution_count": 10,
   "metadata": {
    "ExecuteTime": {
     "end_time": "2019-11-18T16:37:17.860670Z",
     "start_time": "2019-11-18T16:37:17.846706Z"
    }
   },
   "outputs": [],
   "source": [
    "@MakeMeasurementFunction([['frequency', 'Herz', 'array', True], ['S11', 'dB', 'array']])\n",
    "def measure_vna(d):\n",
    "    freqs = np.linspace(440e6, 460e6, 201)\n",
    "    omega = 2*np.pi*freqs\n",
    "    l = 420e-9\n",
    "    c = 0.3e-12\n",
    "    r = pinchoff(T1())+pinchoff(T2())\n",
    "    z = 1j*omega*l+1/(1/r + 1j*omega*c)\n",
    "    z_0 = 50\n",
    "    Gamma = (z - z_0)/(z + z_0)\n",
    "    \n",
    "    return [freqs, 10 + 20 * np.log10(np.abs(Gamma))-70]"
   ]
  },
  {
   "cell_type": "markdown",
   "metadata": {},
   "source": [
    "Where we make explicit in the parameter definition that frequency and S11 are parameters of type array and that frequency is an independent parameter"
   ]
  },
  {
   "cell_type": "markdown",
   "metadata": {},
   "source": [
    "When running the measurement, ensure to reopen T2 to measure the pinchoff along T1"
   ]
  },
  {
   "cell_type": "code",
   "execution_count": null,
   "metadata": {
    "ExecuteTime": {
     "end_time": "2019-11-18T13:05:47.226382Z",
     "start_time": "2019-11-18T13:05:47.019934Z"
    }
   },
   "outputs": [],
   "source": [
    "exp = select_experiment('rf_pinchoff', 'test_sample')\n",
    "meas = Measurement(exp, station)\n",
    "T2(0)\n",
    "r = pysweep.sweep(init_measurement, end_measurement, measure_vna, \n",
    "              pysweep.sweep_object(T1, np.linspace(0,-1.2,51)), \n",
    "              databackend = pysweep.databackends.qcodes.DataBackend(meas)\n",
    "            )"
   ]
  },
  {
   "cell_type": "code",
   "execution_count": null,
   "metadata": {
    "ExecuteTime": {
     "end_time": "2019-11-18T13:05:48.302729Z",
     "start_time": "2019-11-18T13:05:47.652469Z"
    }
   },
   "outputs": [],
   "source": [
    "qcodes.dataset.plotting.plot_dataset(r.datasaver.dataset)"
   ]
  },
  {
   "cell_type": "markdown",
   "metadata": {},
   "source": [
    "# A note on parameter dependencies"
   ]
  },
  {
   "cell_type": "markdown",
   "metadata": {},
   "source": [
    "To figure out which parameters depend on which parameters, pysweep uses a simple rule: every parameter depends on ALL independent parameters that occur earlier in the `paramstruct`\n",
    "\n",
    "looking at the paramstruct of the previous measurement:"
   ]
  },
  {
   "cell_type": "code",
   "execution_count": null,
   "metadata": {
    "ExecuteTime": {
     "end_time": "2019-11-18T15:14:06.298970Z",
     "start_time": "2019-11-18T15:14:06.281020Z"
    }
   },
   "outputs": [],
   "source": [
    "r.columns"
   ]
  },
  {
   "cell_type": "markdown",
   "metadata": {},
   "source": [
    "This assumption is usually correct but can lead to problems, for example in the next measurement which does not work\n",
    "Because of the preceding rule, pysweep expects in the following piece of code that `current` will depend on `frequency`, which is of course not the case."
   ]
  },
  {
   "cell_type": "code",
   "execution_count": null,
   "metadata": {
    "ExecuteTime": {
     "end_time": "2019-11-18T13:12:40.444498Z",
     "start_time": "2019-11-18T13:12:40.313847Z"
    }
   },
   "outputs": [],
   "source": [
    "exp = select_experiment('rf_pinchoff', 'test_sample')\n",
    "meas = Measurement(exp, station)\n",
    "T2(0)\n",
    "try:\n",
    "    r = pysweep.sweep(init_measurement, end_measurement, measure_vna+measure, \n",
    "                  pysweep.sweep_object(T1, np.linspace(0,-1.2,51)), \n",
    "                  databackend = pysweep.databackends.qcodes.DataBackend(meas)\n",
    "                )\n",
    "except ValueError as e:\n",
    "    print(e)"
   ]
  },
  {
   "cell_type": "markdown",
   "metadata": {},
   "source": [
    "### Simple solution"
   ]
  },
  {
   "cell_type": "markdown",
   "metadata": {},
   "source": [
    "Switching around the two measurement functions solves this issue:"
   ]
  },
  {
   "cell_type": "code",
   "execution_count": null,
   "metadata": {
    "ExecuteTime": {
     "end_time": "2019-11-18T13:13:20.927585Z",
     "start_time": "2019-11-18T13:13:20.669277Z"
    }
   },
   "outputs": [],
   "source": [
    "exp = select_experiment('rf_pinchoff', 'test_sample')\n",
    "meas = Measurement(exp, station)\n",
    "T2(0)\n",
    "r = pysweep.sweep(init_measurement, end_measurement, measure+measure_vna, \n",
    "                  pysweep.sweep_object(T1, np.linspace(0,-1.2,51)), \n",
    "                  databackend = pysweep.databackends.qcodes.DataBackend(meas)\n",
    "                )"
   ]
  },
  {
   "cell_type": "code",
   "execution_count": null,
   "metadata": {
    "ExecuteTime": {
     "end_time": "2019-11-18T13:13:33.451369Z",
     "start_time": "2019-11-18T13:13:32.443069Z"
    },
    "scrolled": false
   },
   "outputs": [],
   "source": [
    "qcodes.dataset.plotting.plot_dataset(r.datasaver.dataset)"
   ]
  },
  {
   "cell_type": "markdown",
   "metadata": {},
   "source": [
    "### Advanced solution"
   ]
  },
  {
   "cell_type": "markdown",
   "metadata": {},
   "source": [
    "In some cases it might be the case that both orders will not work. The usecase might be two incompatible hardware sweeps bundeled together.\n"
   ]
  },
  {
   "cell_type": "markdown",
   "metadata": {},
   "source": [
    "In this case the issue can also be resolved bu explicitely telling pysweep that frequency and S11 are together and do not interfere with any other parameter.\n",
    "Because the implicit syntax for the dataparameters gets confusing, I'll use the explicit notation here"
   ]
  },
  {
   "cell_type": "code",
   "execution_count": 11,
   "metadata": {
    "ExecuteTime": {
     "end_time": "2019-11-18T16:37:23.115060Z",
     "start_time": "2019-11-18T16:37:23.095114Z"
    }
   },
   "outputs": [],
   "source": [
    "@MakeMeasurementFunction([pysweep.DataParameter(name='frequency_2',\n",
    "                                              unit='Hz',\n",
    "                                               paramtype='array',\n",
    "                                               independent=2  # yes independent, but pysweep will not recognize it as such\n",
    "                                            ),\n",
    "                         pysweep.DataParameter(name='S11_2', \n",
    "                                              unit='dB',\n",
    "                                              paramtype='array',\n",
    "                                              extra_dependencies=['frequency_2']  # explicitely tell that this parameter depends on frequency_2\n",
    "                                              )])\n",
    "def measure_vna2(d):\n",
    "    freqs = np.linspace(440e6, 460e6, 11)\n",
    "    omega = 2*np.pi*freqs\n",
    "    l = 420e-9\n",
    "    c = 0.3e-12\n",
    "    r = pinchoff(T1())+pinchoff(T2())\n",
    "    z = 1j*omega*l+1/(1/r + 1j*omega*c)\n",
    "    z_0 = 50\n",
    "    Gamma = (z - z_0)/(z + z_0)\n",
    "    \n",
    "    return [freqs, 10 + 20 * np.log10(np.abs(Gamma))-70]"
   ]
  },
  {
   "cell_type": "code",
   "execution_count": null,
   "metadata": {
    "ExecuteTime": {
     "end_time": "2019-11-18T13:28:41.921238Z",
     "start_time": "2019-11-18T13:28:41.659935Z"
    }
   },
   "outputs": [],
   "source": [
    "exp = select_experiment('rf_pinchoff', 'test_sample')\n",
    "meas = Measurement(exp, station)\n",
    "T2(0)\n",
    "r = pysweep.sweep(init_measurement, end_measurement, measure_vna2+measure_vna, \n",
    "                  pysweep.sweep_object(T1, np.linspace(0,-1.2,51)), \n",
    "                  databackend = pysweep.databackends.qcodes.DataBackend(meas)\n",
    "                )"
   ]
  },
  {
   "cell_type": "code",
   "execution_count": null,
   "metadata": {
    "ExecuteTime": {
     "end_time": "2019-11-18T13:28:46.565736Z",
     "start_time": "2019-11-18T13:28:45.198786Z"
    }
   },
   "outputs": [],
   "source": [
    "qcodes.dataset.plotting.plot_dataset(r.datasaver.dataset)"
   ]
  },
  {
   "cell_type": "markdown",
   "metadata": {
    "ExecuteTime": {
     "end_time": "2019-11-18T16:31:40.982980Z",
     "start_time": "2019-11-18T16:31:40.963028Z"
    }
   },
   "source": [
    "Pysweep (with the qcodes backend) only allows one parameter with the same name per measurement, to avoid overwriting data. This is why we renamed the parameters initially"
   ]
  },
  {
   "cell_type": "code",
   "execution_count": null,
   "metadata": {},
   "outputs": [],
   "source": []
  },
  {
   "cell_type": "code",
   "execution_count": 12,
   "metadata": {
    "ExecuteTime": {
     "end_time": "2019-11-18T16:37:27.731464Z",
     "start_time": "2019-11-18T16:37:27.715511Z"
    }
   },
   "outputs": [],
   "source": [
    "@MakeMeasurementFunction([pysweep.DataParameter(name='frequency',\n",
    "                                              unit='Hz',\n",
    "                                               paramtype='array',\n",
    "                                               independent=2  # yes independent, but pysweep will not recognize it as such\n",
    "                                            ),\n",
    "                         pysweep.DataParameter(name='S11', \n",
    "                                              unit='dB',\n",
    "                                              paramtype='array',\n",
    "                                              extra_dependencies=['frequency']  # explicitely tell that this parameter depends on frequency_2\n",
    "                                              )])\n",
    "def measure_vna2(d):\n",
    "    freqs = np.linspace(440e6, 460e6, 11)\n",
    "    omega = 2*np.pi*freqs\n",
    "    l = 420e-9\n",
    "    c = 0.3e-12\n",
    "    r = pinchoff(T1())+pinchoff(T2())\n",
    "    z = 1j*omega*l+1/(1/r + 1j*omega*c)\n",
    "    z_0 = 50\n",
    "    Gamma = (z - z_0)/(z + z_0)\n",
    "    \n",
    "    return [freqs, 10 + 20 * np.log10(np.abs(Gamma))-70]"
   ]
  },
  {
   "cell_type": "code",
   "execution_count": 13,
   "metadata": {
    "ExecuteTime": {
     "end_time": "2019-11-18T16:37:28.865496Z",
     "start_time": "2019-11-18T16:37:28.573275Z"
    }
   },
   "outputs": [
    {
     "name": "stdout",
     "output_type": "stream",
     "text": [
      "None3 , postponing registration\n",
      "None2 , postponing registration\n"
     ]
    },
    {
     "ename": "ValueError",
     "evalue": "Parameter name frequency occurs multiple times in paramstruct",
     "output_type": "error",
     "traceback": [
      "\u001b[1;31m---------------------------------------------------------------------------\u001b[0m",
      "\u001b[1;31mValueError\u001b[0m                                Traceback (most recent call last)",
      "\u001b[1;32m<ipython-input-13-349b5bf059ae>\u001b[0m in \u001b[0;36m<module>\u001b[1;34m\u001b[0m\n\u001b[0;32m      4\u001b[0m r = pysweep.sweep(init_measurement, end_measurement, measure_vna2+measure_vna, \n\u001b[0;32m      5\u001b[0m                   \u001b[0mpysweep\u001b[0m\u001b[1;33m.\u001b[0m\u001b[0msweep_object\u001b[0m\u001b[1;33m(\u001b[0m\u001b[0mT1\u001b[0m\u001b[1;33m,\u001b[0m \u001b[0mnp\u001b[0m\u001b[1;33m.\u001b[0m\u001b[0mlinspace\u001b[0m\u001b[1;33m(\u001b[0m\u001b[1;36m0\u001b[0m\u001b[1;33m,\u001b[0m\u001b[1;33m-\u001b[0m\u001b[1;36m1.2\u001b[0m\u001b[1;33m,\u001b[0m\u001b[1;36m51\u001b[0m\u001b[1;33m)\u001b[0m\u001b[1;33m)\u001b[0m\u001b[1;33m,\u001b[0m\u001b[1;33m\u001b[0m\u001b[1;33m\u001b[0m\u001b[0m\n\u001b[1;32m----> 6\u001b[1;33m                   \u001b[0mdatabackend\u001b[0m \u001b[1;33m=\u001b[0m \u001b[0mpysweep\u001b[0m\u001b[1;33m.\u001b[0m\u001b[0mdatabackends\u001b[0m\u001b[1;33m.\u001b[0m\u001b[0mqcodes\u001b[0m\u001b[1;33m.\u001b[0m\u001b[0mDataBackend\u001b[0m\u001b[1;33m(\u001b[0m\u001b[0mmeas\u001b[0m\u001b[1;33m)\u001b[0m\u001b[1;33m\u001b[0m\u001b[1;33m\u001b[0m\u001b[0m\n\u001b[0m\u001b[0;32m      7\u001b[0m                 )\n",
      "\u001b[1;32mc:\\users\\damaz de jong\\pycharmprojects\\pysweep\\pysweep\\__init__.py\u001b[0m in \u001b[0;36msweep\u001b[1;34m(measurement_init, measurement_end, measure, sweep1, sweep2, sweep3, databackend)\u001b[0m\n\u001b[0;32m    113\u001b[0m         \u001b[0mcols\u001b[0m\u001b[1;33m.\u001b[0m\u001b[0mappend\u001b[0m\u001b[1;33m(\u001b[0m\u001b[0mparam\u001b[0m\u001b[1;33m)\u001b[0m\u001b[1;33m\u001b[0m\u001b[1;33m\u001b[0m\u001b[0m\n\u001b[0;32m    114\u001b[0m \u001b[1;33m\u001b[0m\u001b[0m\n\u001b[1;32m--> 115\u001b[1;33m     \u001b[0mdatabackend\u001b[0m\u001b[1;33m.\u001b[0m\u001b[0msetup\u001b[0m\u001b[1;33m(\u001b[0m\u001b[0mcols\u001b[0m\u001b[1;33m)\u001b[0m\u001b[1;33m\u001b[0m\u001b[1;33m\u001b[0m\u001b[0m\n\u001b[0m\u001b[0;32m    116\u001b[0m     \u001b[0mcolnames\u001b[0m \u001b[1;33m=\u001b[0m \u001b[1;33m[\u001b[0m\u001b[0mcol\u001b[0m\u001b[1;33m.\u001b[0m\u001b[0mname\u001b[0m \u001b[1;32mfor\u001b[0m \u001b[0mcol\u001b[0m \u001b[1;32min\u001b[0m \u001b[0mcols\u001b[0m\u001b[1;33m]\u001b[0m\u001b[1;33m\u001b[0m\u001b[1;33m\u001b[0m\u001b[0m\n\u001b[0;32m    117\u001b[0m \u001b[1;33m\u001b[0m\u001b[0m\n",
      "\u001b[1;32mc:\\users\\damaz de jong\\pycharmprojects\\pysweep\\pysweep\\databackends\\qcodes.py\u001b[0m in \u001b[0;36msetup\u001b[1;34m(self, paramstructure)\u001b[0m\n\u001b[0;32m     22\u001b[0m                     \u001b[1;32mif\u001b[0m \u001b[1;32mnot\u001b[0m \u001b[0mparam\u001b[0m\u001b[1;33m.\u001b[0m\u001b[0mduplicate\u001b[0m\u001b[1;33m:\u001b[0m\u001b[1;33m\u001b[0m\u001b[1;33m\u001b[0m\u001b[0m\n\u001b[0;32m     23\u001b[0m                         \u001b[1;32mif\u001b[0m \u001b[0mparam\u001b[0m\u001b[1;33m.\u001b[0m\u001b[0mname\u001b[0m \u001b[1;32min\u001b[0m \u001b[0mself\u001b[0m\u001b[1;33m.\u001b[0m\u001b[0mcolumns\u001b[0m\u001b[1;33m:\u001b[0m\u001b[1;33m\u001b[0m\u001b[1;33m\u001b[0m\u001b[0m\n\u001b[1;32m---> 24\u001b[1;33m                             \u001b[1;32mraise\u001b[0m \u001b[0mValueError\u001b[0m\u001b[1;33m(\u001b[0m\u001b[1;34m'Parameter name '\u001b[0m\u001b[1;33m+\u001b[0m\u001b[0mstr\u001b[0m\u001b[1;33m(\u001b[0m\u001b[0mparam\u001b[0m\u001b[1;33m.\u001b[0m\u001b[0mname\u001b[0m\u001b[1;33m)\u001b[0m\u001b[1;33m+\u001b[0m \u001b[1;34m' occurs multiple times in paramstruct'\u001b[0m\u001b[1;33m)\u001b[0m\u001b[1;33m\u001b[0m\u001b[1;33m\u001b[0m\u001b[0m\n\u001b[0m\u001b[0;32m     25\u001b[0m                         \u001b[0mself\u001b[0m\u001b[1;33m.\u001b[0m\u001b[0mmeas\u001b[0m\u001b[1;33m.\u001b[0m\u001b[0mregister_custom_parameter\u001b[0m\u001b[1;33m(\u001b[0m\u001b[0mparam\u001b[0m\u001b[1;33m.\u001b[0m\u001b[0mname\u001b[0m\u001b[1;33m,\u001b[0m \u001b[0munit\u001b[0m\u001b[1;33m=\u001b[0m\u001b[0mparam\u001b[0m\u001b[1;33m.\u001b[0m\u001b[0munit\u001b[0m\u001b[1;33m,\u001b[0m \u001b[0mparamtype\u001b[0m\u001b[1;33m=\u001b[0m\u001b[0mparam\u001b[0m\u001b[1;33m.\u001b[0m\u001b[0mparamtype\u001b[0m\u001b[1;33m)\u001b[0m\u001b[1;33m\u001b[0m\u001b[1;33m\u001b[0m\u001b[0m\n\u001b[0;32m     26\u001b[0m                     \u001b[1;32mif\u001b[0m \u001b[1;32mnot\u001b[0m \u001b[0mparam\u001b[0m\u001b[1;33m.\u001b[0m\u001b[0mindependent\u001b[0m \u001b[1;33m==\u001b[0m \u001b[1;36m2\u001b[0m\u001b[1;33m:\u001b[0m  \u001b[1;31m# For parameters that will be the independent for a few explicitely defined parameters, we do not want to add it as an automatic independent\u001b[0m\u001b[1;33m\u001b[0m\u001b[1;33m\u001b[0m\u001b[0m\n",
      "\u001b[1;31mValueError\u001b[0m: Parameter name frequency occurs multiple times in paramstruct"
     ]
    }
   ],
   "source": [
    "exp = select_experiment('rf_pinchoff', 'test_sample')\n",
    "meas = Measurement(exp, station)\n",
    "T2(0)\n",
    "r = pysweep.sweep(init_measurement, end_measurement, measure_vna2+measure_vna, \n",
    "                  pysweep.sweep_object(T1, np.linspace(0,-1.2,51)), \n",
    "                  databackend = pysweep.databackends.qcodes.DataBackend(meas)\n",
    "                )"
   ]
  },
  {
   "cell_type": "markdown",
   "metadata": {
    "heading_collapsed": true
   },
   "source": [
    "# Adaptive sweep - under construction"
   ]
  },
  {
   "cell_type": "code",
   "execution_count": null,
   "metadata": {
    "ExecuteTime": {
     "end_time": "2019-09-11T15:36:36.580663Z",
     "start_time": "2019-09-11T15:36:36.576662Z"
    },
    "hidden": true
   },
   "outputs": [],
   "source": [
    "@MakeMeasurementFunction([['timestamp', 's']])\n",
    "def smart_point_function(dict_waterfall):\n",
    "    timestamp = int(time.time())\n",
    "    points = [int(c) for c in str(timestamp)]\n",
    "    return points, [timestamp]"
   ]
  },
  {
   "cell_type": "code",
   "execution_count": null,
   "metadata": {
    "ExecuteTime": {
     "end_time": "2019-09-11T15:36:36.651851Z",
     "start_time": "2019-09-11T15:36:36.582658Z"
    },
    "hidden": true
   },
   "outputs": [],
   "source": [
    "db = pysweep.databackends.debug.DebugDataBackend()\n",
    "pysweep.sweep(lambda d:{}, lambda d:{}, measure, \n",
    "              pysweep.sweep_object(a, [0,1]),\n",
    "              conv.add_function(pysweep.sweep_object(b, [3,4]), measure_temperature),\n",
    "              pysweep.sweep_object(c, smart_point_function, dataparameter=np.linspace(0,9,10)), databackend=db\n",
    "             )"
   ]
  },
  {
   "cell_type": "markdown",
   "metadata": {},
   "source": [
    "# Real life example - under construction"
   ]
  },
  {
   "cell_type": "code",
   "execution_count": null,
   "metadata": {},
   "outputs": [],
   "source": [
    "%%enqueue single_shot_readout\n",
    "exp = select_experiment('blobs', SAMPLE)\n",
    "meas = Measurement(exp, station)\n",
    "singleshot_dataextractor.setup_acquisition(1024, 1000, 100)\n",
    "#4.77946e9\n",
    "parameter_list = [[station.TI.NW_bias, 0e-3], [station.HT.frequency, 4779770000], [station.HT.RF.power, -20.25]]\n",
    "\n",
    "pysweep.sweep(sf.set_parameters_after(init_rf, parameter_list), end_rf, \n",
    "              measure_singleshot_rf,\n",
    "              pysweep.sweep_object(station.TI.SP4, snr_calibrate_plunger(pysweep.sweep_object(station.TI.SP4, np.linspace(0., 0.4, 101))), dataparameter=[0,1]),\n",
    "              pysweep.convenience.add_function(pysweep.sweep_object(station.TI.T5, np.linspace(-1, -1.35, 101)), csc),\n",
    "              databackend = pysweep.databackends.qcodes.DataBackend(meas)\n",
    "             )\n",
    "rigol.ch1_output_enabled(False)"
   ]
  },
  {
   "cell_type": "markdown",
   "metadata": {
    "heading_collapsed": true
   },
   "source": [
    "# Jagged Data Structures - under construction"
   ]
  },
  {
   "cell_type": "code",
   "execution_count": null,
   "metadata": {
    "hidden": true
   },
   "outputs": [],
   "source": [
    "?DataParameter"
   ]
  },
  {
   "cell_type": "code",
   "execution_count": null,
   "metadata": {
    "hidden": true
   },
   "outputs": [],
   "source": [
    "@MakeMeasurementFunction([DataParameter('time', 's', 'array', 2),\n",
    "                         DataParameter('first_gate', 'V', 'array', 2),\n",
    "                         DataParameter('second_gate', 'V', 'array', 2),\n",
    "                         DataParameter('first_gate_result', 'I', 'array', extra_dependencies=['time', 'first_gate']),\n",
    "                         DataParameter('time', 's', 'array', 2, duplicate=True),\n",
    "                         DataParameter('second_gate_result', 'I', 'array', extra_dependencies=['time', 'second_gate'])])\n",
    "def some_arbitrary_data(d):\n",
    "    return [np.linspace(0,1, 11), np.linspace(0,0.1, 11), np.linspace(0,-0.1, 21), np.linspace(0,0.2, 11), np.linspace(1,2, 21), np.linspace(0,-0.2, 21)]"
   ]
  },
  {
   "cell_type": "code",
   "execution_count": null,
   "metadata": {
    "hidden": true
   },
   "outputs": [],
   "source": [
    "importlib.reload(pysweep.databackends.qcodes)"
   ]
  },
  {
   "cell_type": "code",
   "execution_count": null,
   "metadata": {
    "hidden": true
   },
   "outputs": [],
   "source": [
    "exp = select_experiment('jagged_data', 'test')\n",
    "meas = Measurement(exp, station)\n",
    "\n",
    "pysweep.sweep(init_measurement, end_measurement, \n",
    "              some_arbitrary_data,\n",
    "              pysweep.sweep_object(T1, np.linspace(0,1,2)),\n",
    "              databackend = pysweep.databackends.qcodes.CutDataBackend(meas)\n",
    "             )"
   ]
  },
  {
   "cell_type": "code",
   "execution_count": null,
   "metadata": {
    "hidden": true
   },
   "outputs": [],
   "source": []
  },
  {
   "cell_type": "code",
   "execution_count": null,
   "metadata": {
    "hidden": true
   },
   "outputs": [],
   "source": [
    "raw_data = load_by_id(12)\n",
    "data = raw_data.get_parameter_data()"
   ]
  },
  {
   "cell_type": "code",
   "execution_count": null,
   "metadata": {
    "hidden": true
   },
   "outputs": [],
   "source": [
    "raw_data"
   ]
  },
  {
   "cell_type": "code",
   "execution_count": null,
   "metadata": {
    "hidden": true
   },
   "outputs": [],
   "source": [
    "data['first_gate_result']['first_gate_result']"
   ]
  },
  {
   "cell_type": "code",
   "execution_count": null,
   "metadata": {
    "hidden": true
   },
   "outputs": [],
   "source": [
    "plt.plot(data['first_gate_result']['first_gate'][0], data['first_gate_result']['first_gate_result'][0], '.')\n",
    "plt.show()\n",
    "plt.plot(data['second_gate_result']['second_gate'][0], data['second_gate_result']['second_gate_result'][0], '.')\n",
    "plt.show()\n",
    "plt.plot(data['first_gate_result']['time'][0], data['first_gate_result']['first_gate_result'][0], '.')\n",
    "plt.plot(data['second_gate_result']['time'][0], data['second_gate_result']['second_gate_result'][0], '.')\n",
    "plt.xlabel('time')\n",
    "plt.ylabel('gate_result')\n",
    "plt.show()"
   ]
  },
  {
   "cell_type": "code",
   "execution_count": null,
   "metadata": {
    "hidden": true
   },
   "outputs": [],
   "source": [
    "from plottr.data.datadict import datadict_to_meshgrid\n",
    "from plottr.data.qcodes_dataset import ds_to_datadict"
   ]
  },
  {
   "cell_type": "code",
   "execution_count": null,
   "metadata": {
    "hidden": true
   },
   "outputs": [],
   "source": [
    "def load(runid):\n",
    "    return datadict_to_meshgrid(ds_to_datadict(load_by_id(runid)))"
   ]
  },
  {
   "cell_type": "code",
   "execution_count": null,
   "metadata": {
    "hidden": true
   },
   "outputs": [],
   "source": [
    "ds = ds_to_datadict(load_by_id(12))"
   ]
  },
  {
   "cell_type": "code",
   "execution_count": null,
   "metadata": {
    "hidden": true
   },
   "outputs": [],
   "source": [
    "from plottr.node.data_selector import DataSelector"
   ]
  },
  {
   "cell_type": "code",
   "execution_count": null,
   "metadata": {
    "hidden": true
   },
   "outputs": [],
   "source": [
    "dataselector = DataSelector('dataselector')"
   ]
  },
  {
   "cell_type": "code",
   "execution_count": null,
   "metadata": {
    "hidden": true
   },
   "outputs": [],
   "source": [
    "ds"
   ]
  },
  {
   "cell_type": "code",
   "execution_count": null,
   "metadata": {
    "hidden": true
   },
   "outputs": [],
   "source": [
    "ds2 = ds.extract(['first_gate_result'])"
   ]
  },
  {
   "cell_type": "code",
   "execution_count": null,
   "metadata": {
    "hidden": true
   },
   "outputs": [],
   "source": [
    "ds3 = datadict_to_meshgrid(ds2)\n",
    "ds3.validate()"
   ]
  },
  {
   "cell_type": "code",
   "execution_count": null,
   "metadata": {
    "hidden": true
   },
   "outputs": [],
   "source": [
    "ds3.shape()"
   ]
  },
  {
   "cell_type": "code",
   "execution_count": null,
   "metadata": {
    "hidden": true
   },
   "outputs": [],
   "source": [
    "ds3.structure(), ds3.shapes()"
   ]
  },
  {
   "cell_type": "code",
   "execution_count": null,
   "metadata": {
    "hidden": true
   },
   "outputs": [],
   "source": [
    "ds3.sanitize()"
   ]
  },
  {
   "cell_type": "code",
   "execution_count": null,
   "metadata": {
    "hidden": true
   },
   "outputs": [],
   "source": []
  }
 ],
 "metadata": {
  "kernelspec": {
   "display_name": "Python [conda env:qcodes-env2]",
   "language": "python",
   "name": "conda-env-qcodes-env2-py"
  },
  "language_info": {
   "codemirror_mode": {
    "name": "ipython",
    "version": 3
   },
   "file_extension": ".py",
   "mimetype": "text/x-python",
   "name": "python",
   "nbconvert_exporter": "python",
   "pygments_lexer": "ipython3",
   "version": "3.7.4"
  },
  "toc": {
   "base_numbering": 1,
   "nav_menu": {},
   "number_sections": true,
   "sideBar": true,
   "skip_h1_title": false,
   "title_cell": "Table of Contents",
   "title_sidebar": "Contents",
   "toc_cell": false,
   "toc_position": {
    "height": "calc(100% - 180px)",
    "left": "10px",
    "top": "150px",
    "width": "384.4px"
   },
   "toc_section_display": true,
   "toc_window_display": true
  }
 },
 "nbformat": 4,
 "nbformat_minor": 2
}
