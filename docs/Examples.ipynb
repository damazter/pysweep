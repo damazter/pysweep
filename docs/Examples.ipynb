{
 "cells": [
  {
   "cell_type": "markdown",
   "metadata": {},
   "source": [
    "# Imports"
   ]
  },
  {
   "cell_type": "code",
   "execution_count": 1,
   "metadata": {
    "ExecuteTime": {
     "end_time": "2019-09-16T11:52:44.638417Z",
     "start_time": "2019-09-16T11:52:43.889767Z"
    }
   },
   "outputs": [],
   "source": [
    "import pysweep\n",
    "import qcodes as qc\n",
    "import pysweep.databackends.debug\n",
    "import pysweep.databackends.list_backend\n",
    "import pysweep.databackends.qcodes\n",
    "import pysweep.core.measurementfunctions\n",
    "from pysweep.core.sweepobject import SweepObject\n",
    "from pysweep.core.measurementfunctions import MakeMeasurementFunction\n",
    "import pysweep.convenience as conv\n",
    "import random\n",
    "import time\n",
    "import numpy as np\n",
    "import pandas as pd\n",
    "\n",
    "import matplotlib.pyplot as plt"
   ]
  },
  {
   "cell_type": "code",
   "execution_count": 15,
   "metadata": {},
   "outputs": [],
   "source": [
    "from pysweep.databackends.base import DataParameter\n",
    "from pytopo.qctools.dataset2 import select_experiment\n",
    "from qcodes.dataset.measurements import Measurement\n",
    "\n",
    "from qcodes import load_by_id\n",
    "import qcodes as qc\n",
    "import qcodes.dataset.plotting\n",
    "import importlib"
   ]
  },
  {
   "cell_type": "code",
   "execution_count": 3,
   "metadata": {
    "ExecuteTime": {
     "end_time": "2019-09-16T11:47:25.559202Z",
     "start_time": "2019-09-16T11:47:25.556228Z"
    }
   },
   "outputs": [],
   "source": [
    "station = qc.Station()\n",
    "pysweep.STATION = station\n",
    "qc.config.core.db_location = r'D:\\OneDrive\\BF1\\Code\\pysweep\\testdata.db'\n",
    "qc.initialise_database()"
   ]
  },
  {
   "cell_type": "markdown",
   "metadata": {},
   "source": [
    "# Define a few parameters with physics"
   ]
  },
  {
   "cell_type": "code",
   "execution_count": 4,
   "metadata": {
    "ExecuteTime": {
     "end_time": "2019-09-16T11:47:25.573228Z",
     "start_time": "2019-09-16T11:47:25.561228Z"
    }
   },
   "outputs": [],
   "source": [
    "bias = qc.instrument.parameter.ManualParameter(\"bias\", units=\"V\")\n",
    "T1 = qc.instrument.parameter.ManualParameter(\"T1\", units=\"V\")\n",
    "T2 = qc.instrument.parameter.ManualParameter(\"T2\", units=\"V\")\n",
    "\n",
    "bias(0)\n",
    "T1(0)\n",
    "T2(0)\n",
    "\n",
    "def pinchoff(v, rs=10e3, l=2e-6, muc=3*60e-18, vth=-1):\n",
    "    if v>vth:\n",
    "        return (rs+l**2/(muc*(v-vth)))\n",
    "    else:\n",
    "        return 1e11\n",
    "\n",
    "def get_current():\n",
    "    u = bias()\n",
    "    r = pinchoff(T1())+pinchoff(T2())\n",
    "    return u/r\n",
    "current = qc.instrument.parameter.Parameter(\"current\", units=\"A\", get_cmd=get_current)\n",
    "\n"
   ]
  },
  {
   "cell_type": "markdown",
   "metadata": {},
   "source": [
    "# Define the functions that define the measurement"
   ]
  },
  {
   "cell_type": "markdown",
   "metadata": {},
   "source": [
    "We need to define what happens at the start of a measurement, what must happen at the end of a measurement and finally what a measurement entails"
   ]
  },
  {
   "cell_type": "code",
   "execution_count": 5,
   "metadata": {
    "ExecuteTime": {
     "end_time": "2019-09-16T11:47:25.583213Z",
     "start_time": "2019-09-16T11:47:25.575218Z"
    }
   },
   "outputs": [],
   "source": [
    "def init_measurement(d):\n",
    "    bias(1e-3)\n",
    "\n",
    "def end_measurement(d):\n",
    "    bias(0)"
   ]
  },
  {
   "cell_type": "code",
   "execution_count": 6,
   "metadata": {
    "ExecuteTime": {
     "end_time": "2019-09-16T11:47:25.596205Z",
     "start_time": "2019-09-16T11:47:25.584211Z"
    }
   },
   "outputs": [],
   "source": [
    "@MakeMeasurementFunction([['current', 'A']])\n",
    "def measure(d):\n",
    "    return [current()]"
   ]
  },
  {
   "cell_type": "markdown",
   "metadata": {},
   "source": [
    "lets also define a function the measures the hypothetical temperature of our fridge"
   ]
  },
  {
   "cell_type": "code",
   "execution_count": 7,
   "metadata": {
    "ExecuteTime": {
     "end_time": "2019-09-16T11:47:25.608188Z",
     "start_time": "2019-09-16T11:47:25.598215Z"
    }
   },
   "outputs": [],
   "source": [
    "@MakeMeasurementFunction([['Temperature', 'mK']])\n",
    "def measure_temperature(d):\n",
    "    return [random.randint(100, 300)/10]"
   ]
  },
  {
   "cell_type": "markdown",
   "metadata": {},
   "source": [
    "# Simple measurements"
   ]
  },
  {
   "cell_type": "markdown",
   "metadata": {},
   "source": [
    "This paragraph contains some measurements that corresponds to the easiest cases of measurements. The cases cover 90% of all measurements that will run, but don't show the full power of pysweep"
   ]
  },
  {
   "cell_type": "code",
   "execution_count": 8,
   "metadata": {
    "ExecuteTime": {
     "end_time": "2019-09-16T11:48:23.474262Z",
     "start_time": "2019-09-16T11:48:23.468236Z"
    }
   },
   "outputs": [
    {
     "name": "stdout",
     "output_type": "stream",
     "text": [
      "None3 , postponing registration\n",
      "None2 , postponing registration\n",
      "Starting experimental run with id: 13\n"
     ]
    }
   ],
   "source": [
    "exp = select_experiment('pinchoff', 'test_sample')\n",
    "meas = Measurement(exp, station)\n",
    "r = pysweep.sweep(init_measurement, end_measurement, measure, \n",
    "              pysweep.sweep_object(T1, np.linspace(0,-1.2,51)), \n",
    "              databackend = pysweep.databackends.qcodes.DataBackend(meas)\n",
    "            )"
   ]
  },
  {
   "cell_type": "code",
   "execution_count": 18,
   "metadata": {},
   "outputs": [
    {
     "data": {
      "text/plain": [
       "([<matplotlib.axes._subplots.AxesSubplot at 0x1763ac4f708>], [None])"
      ]
     },
     "execution_count": 18,
     "metadata": {},
     "output_type": "execute_result"
    },
    {
     "data": {
      "image/png": "[encoded data removed]",
      "text/plain": [
       "<Figure size 432x288 with 1 Axes>"
      ]
     },
     "metadata": {
      "needs_background": "light"
     },
     "output_type": "display_data"
    }
   ],
   "source": [
    "qcodes.dataset.plotting.plot_by_id(r.datasaver.run_id)"
   ]
  },
  {
   "cell_type": "code",
   "execution_count": 19,
   "metadata": {
    "ExecuteTime": {
     "end_time": "2019-09-13T11:23:11.673539Z",
     "start_time": "2019-09-13T11:23:07.771697Z"
    }
   },
   "outputs": [
    {
     "name": "stdout",
     "output_type": "stream",
     "text": [
      "None3 , postponing registration\n",
      "Starting experimental run with id: 14\n"
     ]
    }
   ],
   "source": [
    "exp = select_experiment('pinchoff', 'test_sample')\n",
    "meas = Measurement(exp, station)\n",
    "r = pysweep.sweep(init_measurement, end_measurement, measure, \n",
    "              pysweep.sweep_object(T1, np.linspace(0,-1.2,51)), \n",
    "              pysweep.sweep_object(T2, np.linspace(0,-1.2,51)), \n",
    "              databackend = pysweep.databackends.qcodes.DataBackend(meas)\n",
    "            )"
   ]
  },
  {
   "cell_type": "code",
   "execution_count": 20,
   "metadata": {},
   "outputs": [
    {
     "data": {
      "text/plain": [
       "([<matplotlib.axes._subplots.AxesSubplot at 0x1763b63bf08>],\n",
       " [<matplotlib.colorbar.Colorbar at 0x1763b683588>])"
      ]
     },
     "execution_count": 20,
     "metadata": {},
     "output_type": "execute_result"
    },
    {
     "data": {
      "image/png": "[encoded data removed]",
      "text/plain": [
       "<Figure size 432x288 with 2 Axes>"
      ]
     },
     "metadata": {
      "needs_background": "light"
     },
     "output_type": "display_data"
    }
   ],
   "source": [
    "qcodes.dataset.plotting.plot_by_id(r.datasaver.run_id)"
   ]
  },
  {
   "cell_type": "markdown",
   "metadata": {},
   "source": [
    "# Extended examples"
   ]
  },
  {
   "cell_type": "markdown",
   "metadata": {},
   "source": [
    "Here are a few examples of measurements that are still relatively simples, but with a few more bells and whistles"
   ]
  },
  {
   "cell_type": "markdown",
   "metadata": {},
   "source": [
    "Say that we want to measure the fridge temperature in addition to the current, then we simply execute"
   ]
  },
  {
   "cell_type": "code",
   "execution_count": 23,
   "metadata": {},
   "outputs": [
    {
     "name": "stdout",
     "output_type": "stream",
     "text": [
      "None3 , postponing registration\n",
      "Starting experimental run with id: 16\n"
     ]
    }
   ],
   "source": [
    "exp = select_experiment('pinchoff', 'test_sample')\n",
    "meas = Measurement(exp, station)\n",
    "r = pysweep.sweep(init_measurement, end_measurement, measure+measure_temperature, \n",
    "              pysweep.sweep_object(T1, np.linspace(0,-1.2,51)), \n",
    "              pysweep.sweep_object(T2, np.linspace(0,-1.2,51)), \n",
    "              databackend = pysweep.databackends.qcodes.DataBackend(meas)\n",
    "            )"
   ]
  },
  {
   "cell_type": "code",
   "execution_count": 24,
   "metadata": {},
   "outputs": [
    {
     "data": {
      "text/plain": [
       "([<matplotlib.axes._subplots.AxesSubplot at 0x1763b6b3388>,\n",
       "  <matplotlib.axes._subplots.AxesSubplot at 0x1763b868988>],\n",
       " [<matplotlib.colorbar.Colorbar at 0x1763b3c7bc8>,\n",
       "  <matplotlib.colorbar.Colorbar at 0x1763b3d4988>])"
      ]
     },
     "execution_count": 24,
     "metadata": {},
     "output_type": "execute_result"
    },
    {
     "data": {
      "image/png": "[encoded data removed]",
      "text/plain": [
       "<Figure size 432x288 with 2 Axes>"
      ]
     },
     "metadata": {
      "needs_background": "light"
     },
     "output_type": "display_data"
    },
    {
     "data": {
      "image/png": "[encoded data removed]",
      "text/plain": [
       "<Figure size 432x288 with 2 Axes>"
      ]
     },
     "metadata": {
      "needs_background": "light"
     },
     "output_type": "display_data"
    }
   ],
   "source": [
    "qcodes.dataset.plotting.plot_by_id(r.datasaver.run_id)"
   ]
  },
  {
   "cell_type": "markdown",
   "metadata": {},
   "source": [
    "But often we only want to measure temperature every now and then, so let's assume that we want to measure the fridge tmeperature only after every time we set the T2 parameter"
   ]
  },
  {
   "cell_type": "code",
   "execution_count": 21,
   "metadata": {
    "ExecuteTime": {
     "end_time": "2019-09-11T15:36:36.574661Z",
     "start_time": "2019-09-11T15:36:36.531697Z"
    }
   },
   "outputs": [
    {
     "name": "stdout",
     "output_type": "stream",
     "text": [
      "None3 , postponing registration\n",
      "Starting experimental run with id: 15\n"
     ]
    }
   ],
   "source": [
    "exp = select_experiment('pinchoff', 'test_sample')\n",
    "meas = Measurement(exp, station)\n",
    "r = pysweep.sweep(init_measurement, end_measurement, measure, \n",
    "              pysweep.sweep_object(T1, np.linspace(0,-1.2,51)), \n",
    "              conv.add_function(pysweep.sweep_object(T2, np.linspace(0,-1.2,51)), measure_temperature), \n",
    "              databackend = pysweep.databackends.qcodes.DataBackend(meas)\n",
    "            )"
   ]
  },
  {
   "cell_type": "code",
   "execution_count": 22,
   "metadata": {},
   "outputs": [
    {
     "data": {
      "text/plain": [
       "([<matplotlib.axes._subplots.AxesSubplot at 0x1763baf7c88>,\n",
       "  <matplotlib.axes._subplots.AxesSubplot at 0x1763bb35cc8>],\n",
       " [None, <matplotlib.colorbar.Colorbar at 0x1763bbbfb08>])"
      ]
     },
     "execution_count": 22,
     "metadata": {},
     "output_type": "execute_result"
    },
    {
     "data": {
      "image/png": "[encoded data removed]",
      "text/plain": [
       "<Figure size 432x288 with 1 Axes>"
      ]
     },
     "metadata": {
      "needs_background": "light"
     },
     "output_type": "display_data"
    },
    {
     "data": {
      "image/png": "[encoded data removed]",
      "text/plain": [
       "<Figure size 432x288 with 2 Axes>"
      ]
     },
     "metadata": {
      "needs_background": "light"
     },
     "output_type": "display_data"
    }
   ],
   "source": [
    "qcodes.dataset.plotting.plot_by_id(r.datasaver.run_id)"
   ]
  },
  {
   "cell_type": "markdown",
   "metadata": {
    "heading_collapsed": true
   },
   "source": [
    "# Adaptive sweep - under construction"
   ]
  },
  {
   "cell_type": "code",
   "execution_count": null,
   "metadata": {
    "ExecuteTime": {
     "end_time": "2019-09-11T15:36:36.580663Z",
     "start_time": "2019-09-11T15:36:36.576662Z"
    },
    "hidden": true
   },
   "outputs": [],
   "source": [
    "@MakeMeasurementFunction([['timestamp', 's']])\n",
    "def smart_point_function(dict_waterfall):\n",
    "    timestamp = int(time.time())\n",
    "    points = [int(c) for c in str(timestamp)]\n",
    "    return points, [timestamp]"
   ]
  },
  {
   "cell_type": "code",
   "execution_count": null,
   "metadata": {
    "ExecuteTime": {
     "end_time": "2019-09-11T15:36:36.651851Z",
     "start_time": "2019-09-11T15:36:36.582658Z"
    },
    "hidden": true
   },
   "outputs": [],
   "source": [
    "db = pysweep.databackends.debug.DebugDataBackend()\n",
    "pysweep.sweep(lambda d:{}, lambda d:{}, measure, \n",
    "              pysweep.sweep_object(a, [0,1]),\n",
    "              conv.add_function(pysweep.sweep_object(b, [3,4]), measure_temperature),\n",
    "              pysweep.sweep_object(c, smart_point_function, dataparameter=np.linspace(0,9,10)), databackend=db\n",
    "             )"
   ]
  },
  {
   "cell_type": "markdown",
   "metadata": {
    "heading_collapsed": true
   },
   "source": [
    "# Real life example - under construction"
   ]
  },
  {
   "cell_type": "code",
   "execution_count": null,
   "metadata": {
    "hidden": true
   },
   "outputs": [],
   "source": [
    "%%enqueue single_shot_readout\n",
    "exp = select_experiment('blobs', SAMPLE)\n",
    "meas = Measurement(exp, station)\n",
    "singleshot_dataextractor.setup_acquisition(1024, 1000, 100)\n",
    "#4.77946e9\n",
    "parameter_list = [[station.TI.NW_bias, 0e-3], [station.HT.frequency, 4779770000], [station.HT.RF.power, -20.25]]\n",
    "\n",
    "pysweep.sweep(sf.set_parameters_after(init_rf, parameter_list), end_rf, \n",
    "              measure_singleshot_rf,\n",
    "              pysweep.sweep_object(station.TI.SP4, snr_calibrate_plunger(pysweep.sweep_object(station.TI.SP4, np.linspace(0., 0.4, 101))), dataparameter=[0,1]),\n",
    "              pysweep.convenience.add_function(pysweep.sweep_object(station.TI.T5, np.linspace(-1, -1.35, 101)), csc),\n",
    "              databackend = pysweep.databackends.qcodes.DataBackend(meas)\n",
    "             )\n",
    "rigol.ch1_output_enabled(False)"
   ]
  },
  {
   "cell_type": "markdown",
   "metadata": {
    "heading_collapsed": true
   },
   "source": [
    "# Jagged Data Structures - under construction"
   ]
  },
  {
   "cell_type": "code",
   "execution_count": 19,
   "metadata": {
    "hidden": true
   },
   "outputs": [],
   "source": [
    "?DataParameter"
   ]
  },
  {
   "cell_type": "code",
   "execution_count": 20,
   "metadata": {
    "hidden": true
   },
   "outputs": [],
   "source": [
    "@MakeMeasurementFunction([DataParameter('time', 's', 'array', 2),\n",
    "                         DataParameter('first_gate', 'V', 'array', 2),\n",
    "                         DataParameter('second_gate', 'V', 'array', 2),\n",
    "                         DataParameter('first_gate_result', 'I', 'array', extra_dependencies=['time', 'first_gate']),\n",
    "                         DataParameter('time', 's', 'array', 2, duplicate=True),\n",
    "                         DataParameter('second_gate_result', 'I', 'array', extra_dependencies=['time', 'second_gate'])])\n",
    "def some_arbitrary_data(d):\n",
    "    return [np.linspace(0,1, 11), np.linspace(0,0.1, 11), np.linspace(0,-0.1, 21), np.linspace(0,0.2, 11), np.linspace(1,2, 21), np.linspace(0,-0.2, 21)]"
   ]
  },
  {
   "cell_type": "code",
   "execution_count": 27,
   "metadata": {
    "hidden": true
   },
   "outputs": [
    {
     "data": {
      "text/plain": [
       "<module 'pysweep.databackends.qcodes' from 'd:\\\\onedrive\\\\bf1\\\\code\\\\pysweep\\\\pysweep\\\\databackends\\\\qcodes.py'>"
      ]
     },
     "execution_count": 27,
     "metadata": {},
     "output_type": "execute_result"
    }
   ],
   "source": [
    "importlib.reload(pysweep.databackends.qcodes)"
   ]
  },
  {
   "cell_type": "code",
   "execution_count": 30,
   "metadata": {
    "hidden": true
   },
   "outputs": [
    {
     "name": "stdout",
     "output_type": "stream",
     "text": [
      "None3 , postponing registration\n",
      "None2 , postponing registration\n",
      "[True, True, True, 2, 2, 2, False, 2, False]\n",
      "Starting experimental run with id: 12\n",
      "{'first_gate_result': ['T1', 'time', 'first_gate'], 'second_gate_result': ['T1', 'time', 'second_gate']}\n",
      "{'first_gate_result': ['T1', 'time', 'first_gate'], 'second_gate_result': ['T1', 'time', 'second_gate']}\n"
     ]
    },
    {
     "data": {
      "text/plain": [
       "<pysweep.databackends.qcodes.CutDataBackend at 0x168324896c8>"
      ]
     },
     "execution_count": 30,
     "metadata": {},
     "output_type": "execute_result"
    }
   ],
   "source": [
    "exp = select_experiment('jagged_data', 'test')\n",
    "meas = Measurement(exp, station)\n",
    "\n",
    "pysweep.sweep(init_measurement, end_measurement, \n",
    "              some_arbitrary_data,\n",
    "              pysweep.sweep_object(T1, np.linspace(0,1,2)),\n",
    "              databackend = pysweep.databackends.qcodes.CutDataBackend(meas)\n",
    "             )"
   ]
  },
  {
   "cell_type": "code",
   "execution_count": 32,
   "metadata": {
    "hidden": true
   },
   "outputs": [],
   "source": []
  },
  {
   "cell_type": "code",
   "execution_count": 36,
   "metadata": {
    "hidden": true
   },
   "outputs": [],
   "source": [
    "raw_data = load_by_id(12)\n",
    "data = raw_data.get_parameter_data()"
   ]
  },
  {
   "cell_type": "code",
   "execution_count": 34,
   "metadata": {
    "hidden": true
   },
   "outputs": [
    {
     "data": {
      "text/plain": [
       "results #12@D:\\OneDrive\\BF1\\Code\\pysweep\\testdata.db\n",
       "----------------------------------------------------\n",
       "T1 - numeric\n",
       "time - array\n",
       "first_gate - array\n",
       "second_gate - array\n",
       "first_gate_result - array\n",
       "second_gate_result - array"
      ]
     },
     "execution_count": 34,
     "metadata": {},
     "output_type": "execute_result"
    }
   ],
   "source": [
    "raw_data"
   ]
  },
  {
   "cell_type": "code",
   "execution_count": 38,
   "metadata": {
    "hidden": true
   },
   "outputs": [
    {
     "data": {
      "text/plain": [
       "array([[0.  , 0.02, 0.04, 0.06, 0.08, 0.1 , 0.12, 0.14, 0.16, 0.18, 0.2 ],\n",
       "       [0.  , 0.02, 0.04, 0.06, 0.08, 0.1 , 0.12, 0.14, 0.16, 0.18, 0.2 ]])"
      ]
     },
     "execution_count": 38,
     "metadata": {},
     "output_type": "execute_result"
    }
   ],
   "source": [
    "data['first_gate_result']['first_gate_result']"
   ]
  },
  {
   "cell_type": "code",
   "execution_count": 45,
   "metadata": {
    "hidden": true
   },
   "outputs": [
    {
     "data": {
      "image/png": "[encoded data removed]",
      "text/plain": [
       "<Figure size 432x288 with 1 Axes>"
      ]
     },
     "metadata": {
      "needs_background": "light"
     },
     "output_type": "display_data"
    },
    {
     "data": {
      "image/png": "[encoded data removed]",
      "text/plain": [
       "<Figure size 432x288 with 1 Axes>"
      ]
     },
     "metadata": {
      "needs_background": "light"
     },
     "output_type": "display_data"
    },
    {
     "data": {
      "image/png": "[encoded data removed]",
      "text/plain": [
       "<Figure size 432x288 with 1 Axes>"
      ]
     },
     "metadata": {
      "needs_background": "light"
     },
     "output_type": "display_data"
    }
   ],
   "source": [
    "plt.plot(data['first_gate_result']['first_gate'][0], data['first_gate_result']['first_gate_result'][0], '.')\n",
    "plt.show()\n",
    "plt.plot(data['second_gate_result']['second_gate'][0], data['second_gate_result']['second_gate_result'][0], '.')\n",
    "plt.show()\n",
    "plt.plot(data['first_gate_result']['time'][0], data['first_gate_result']['first_gate_result'][0], '.')\n",
    "plt.plot(data['second_gate_result']['time'][0], data['second_gate_result']['second_gate_result'][0], '.')\n",
    "plt.xlabel('time')\n",
    "plt.ylabel('gate_result')\n",
    "plt.show()"
   ]
  },
  {
   "cell_type": "code",
   "execution_count": 5,
   "metadata": {
    "hidden": true
   },
   "outputs": [],
   "source": [
    "from plottr.data.datadict import datadict_to_meshgrid\n",
    "from plottr.data.qcodes_dataset import ds_to_datadict"
   ]
  },
  {
   "cell_type": "code",
   "execution_count": null,
   "metadata": {
    "hidden": true
   },
   "outputs": [],
   "source": [
    "def load(runid):\n",
    "    return datadict_to_meshgrid(ds_to_datadict(load_by_id(runid)))"
   ]
  },
  {
   "cell_type": "code",
   "execution_count": 8,
   "metadata": {
    "hidden": true
   },
   "outputs": [],
   "source": [
    "ds = ds_to_datadict(load_by_id(12))"
   ]
  },
  {
   "cell_type": "code",
   "execution_count": 50,
   "metadata": {
    "hidden": true
   },
   "outputs": [],
   "source": [
    "from plottr.node.data_selector import DataSelector"
   ]
  },
  {
   "cell_type": "code",
   "execution_count": null,
   "metadata": {
    "hidden": true
   },
   "outputs": [],
   "source": [
    "dataselector = DataSelector('dataselector')"
   ]
  },
  {
   "cell_type": "code",
   "execution_count": 10,
   "metadata": {
    "hidden": true
   },
   "outputs": [
    {
     "data": {
      "text/plain": [
       "{'first_gate_result': {'unit': 'I',\n",
       "  'axes': ['T1', 'time', 'first_gate'],\n",
       "  'values': array([[0.  , 0.02, 0.04, 0.06, 0.08, 0.1 , 0.12, 0.14, 0.16, 0.18, 0.2 ],\n",
       "         [0.  , 0.02, 0.04, 0.06, 0.08, 0.1 , 0.12, 0.14, 0.16, 0.18, 0.2 ]])},\n",
       " 'T1': {'unit': '',\n",
       "  'values': array([[0., 0., 0., 0., 0., 0., 0., 0., 0., 0., 0.],\n",
       "         [1., 1., 1., 1., 1., 1., 1., 1., 1., 1., 1.]]),\n",
       "  'axes': []},\n",
       " 'time': {'unit': 's',\n",
       "  'values': array([[0. , 0.1, 0.2, 0.3, 0.4, 0.5, 0.6, 0.7, 0.8, 0.9, 1. ],\n",
       "         [0. , 0.1, 0.2, 0.3, 0.4, 0.5, 0.6, 0.7, 0.8, 0.9, 1. ]]),\n",
       "  'axes': []},\n",
       " 'first_gate': {'unit': 'V',\n",
       "  'values': array([[0.  , 0.01, 0.02, 0.03, 0.04, 0.05, 0.06, 0.07, 0.08, 0.09, 0.1 ],\n",
       "         [0.  , 0.01, 0.02, 0.03, 0.04, 0.05, 0.06, 0.07, 0.08, 0.09, 0.1 ]]),\n",
       "  'axes': []},\n",
       " 'T1_0': {'unit': '',\n",
       "  'values': array([[0., 0., 0., 0., 0., 0., 0., 0., 0., 0., 0., 0., 0., 0., 0., 0.,\n",
       "          0., 0., 0., 0., 0.],\n",
       "         [1., 1., 1., 1., 1., 1., 1., 1., 1., 1., 1., 1., 1., 1., 1., 1.,\n",
       "          1., 1., 1., 1., 1.]]),\n",
       "  'axes': []},\n",
       " 'time_0': {'unit': 's',\n",
       "  'values': array([[1.  , 1.05, 1.1 , 1.15, 1.2 , 1.25, 1.3 , 1.35, 1.4 , 1.45, 1.5 ,\n",
       "          1.55, 1.6 , 1.65, 1.7 , 1.75, 1.8 , 1.85, 1.9 , 1.95, 2.  ],\n",
       "         [1.  , 1.05, 1.1 , 1.15, 1.2 , 1.25, 1.3 , 1.35, 1.4 , 1.45, 1.5 ,\n",
       "          1.55, 1.6 , 1.65, 1.7 , 1.75, 1.8 , 1.85, 1.9 , 1.95, 2.  ]]),\n",
       "  'axes': []},\n",
       " 'second_gate': {'unit': 'V',\n",
       "  'values': array([[ 0.   , -0.005, -0.01 , -0.015, -0.02 , -0.025, -0.03 , -0.035,\n",
       "          -0.04 , -0.045, -0.05 , -0.055, -0.06 , -0.065, -0.07 , -0.075,\n",
       "          -0.08 , -0.085, -0.09 , -0.095, -0.1  ],\n",
       "         [ 0.   , -0.005, -0.01 , -0.015, -0.02 , -0.025, -0.03 , -0.035,\n",
       "          -0.04 , -0.045, -0.05 , -0.055, -0.06 , -0.065, -0.07 , -0.075,\n",
       "          -0.08 , -0.085, -0.09 , -0.095, -0.1  ]]),\n",
       "  'axes': []},\n",
       " 'second_gate_result': {'unit': 'I',\n",
       "  'axes': ['T1_0', 'time_0', 'second_gate'],\n",
       "  'values': array([[ 0.  , -0.01, -0.02, -0.03, -0.04, -0.05, -0.06, -0.07, -0.08,\n",
       "          -0.09, -0.1 , -0.11, -0.12, -0.13, -0.14, -0.15, -0.16, -0.17,\n",
       "          -0.18, -0.19, -0.2 ],\n",
       "         [ 0.  , -0.01, -0.02, -0.03, -0.04, -0.05, -0.06, -0.07, -0.08,\n",
       "          -0.09, -0.1 , -0.11, -0.12, -0.13, -0.14, -0.15, -0.16, -0.17,\n",
       "          -0.18, -0.19, -0.2 ]])}}"
      ]
     },
     "execution_count": 10,
     "metadata": {},
     "output_type": "execute_result"
    }
   ],
   "source": [
    "ds"
   ]
  },
  {
   "cell_type": "code",
   "execution_count": 12,
   "metadata": {
    "hidden": true
   },
   "outputs": [],
   "source": [
    "ds2 = ds.extract(['first_gate_result'])"
   ]
  },
  {
   "cell_type": "code",
   "execution_count": 15,
   "metadata": {
    "hidden": true
   },
   "outputs": [
    {
     "data": {
      "text/plain": [
       "True"
      ]
     },
     "execution_count": 15,
     "metadata": {},
     "output_type": "execute_result"
    }
   ],
   "source": [
    "ds3 = datadict_to_meshgrid(ds2)\n",
    "ds3.validate()"
   ]
  },
  {
   "cell_type": "code",
   "execution_count": 19,
   "metadata": {
    "hidden": true
   },
   "outputs": [
    {
     "data": {
      "text/plain": [
       "(2, 11, 1)"
      ]
     },
     "execution_count": 19,
     "metadata": {},
     "output_type": "execute_result"
    }
   ],
   "source": [
    "ds3.shape()"
   ]
  },
  {
   "cell_type": "code",
   "execution_count": 23,
   "metadata": {
    "hidden": true
   },
   "outputs": [
    {
     "data": {
      "text/plain": [
       "({'first_gate_result': {'unit': 'I', 'axes': ['T1', 'time', 'first_gate']},\n",
       "  'T1': {'unit': '', 'axes': []},\n",
       "  'time': {'unit': 's', 'axes': []},\n",
       "  'first_gate': {'unit': 'V', 'axes': []}},\n",
       " {'first_gate_result': (2, 11, 1),\n",
       "  'T1': (2, 11, 1),\n",
       "  'time': (2, 11, 1),\n",
       "  'first_gate': (2, 11, 1)})"
      ]
     },
     "execution_count": 23,
     "metadata": {},
     "output_type": "execute_result"
    }
   ],
   "source": [
    "ds3.structure(), ds3.shapes()"
   ]
  },
  {
   "cell_type": "code",
   "execution_count": 24,
   "metadata": {
    "hidden": true
   },
   "outputs": [
    {
     "data": {
      "text/plain": [
       "{'first_gate_result': {'unit': 'I',\n",
       "  'axes': ['T1', 'time', 'first_gate'],\n",
       "  'values': array([[[0.  ],\n",
       "          [0.02],\n",
       "          [0.04],\n",
       "          [0.06],\n",
       "          [0.08],\n",
       "          [0.1 ],\n",
       "          [0.12],\n",
       "          [0.14],\n",
       "          [0.16],\n",
       "          [0.18],\n",
       "          [0.2 ]],\n",
       "  \n",
       "         [[0.  ],\n",
       "          [0.02],\n",
       "          [0.04],\n",
       "          [0.06],\n",
       "          [0.08],\n",
       "          [0.1 ],\n",
       "          [0.12],\n",
       "          [0.14],\n",
       "          [0.16],\n",
       "          [0.18],\n",
       "          [0.2 ]]])},\n",
       " 'T1': {'unit': '', 'axes': [], 'values': array([[[0.],\n",
       "          [0.],\n",
       "          [0.],\n",
       "          [0.],\n",
       "          [0.],\n",
       "          [0.],\n",
       "          [0.],\n",
       "          [0.],\n",
       "          [0.],\n",
       "          [0.],\n",
       "          [0.]],\n",
       "  \n",
       "         [[1.],\n",
       "          [1.],\n",
       "          [1.],\n",
       "          [1.],\n",
       "          [1.],\n",
       "          [1.],\n",
       "          [1.],\n",
       "          [1.],\n",
       "          [1.],\n",
       "          [1.],\n",
       "          [1.]]])},\n",
       " 'time': {'unit': 's', 'axes': [], 'values': array([[[0. ],\n",
       "          [0.1],\n",
       "          [0.2],\n",
       "          [0.3],\n",
       "          [0.4],\n",
       "          [0.5],\n",
       "          [0.6],\n",
       "          [0.7],\n",
       "          [0.8],\n",
       "          [0.9],\n",
       "          [1. ]],\n",
       "  \n",
       "         [[0. ],\n",
       "          [0.1],\n",
       "          [0.2],\n",
       "          [0.3],\n",
       "          [0.4],\n",
       "          [0.5],\n",
       "          [0.6],\n",
       "          [0.7],\n",
       "          [0.8],\n",
       "          [0.9],\n",
       "          [1. ]]])},\n",
       " 'first_gate': {'unit': 'V', 'axes': [], 'values': array([[[0.  ],\n",
       "          [0.01],\n",
       "          [0.02],\n",
       "          [0.03],\n",
       "          [0.04],\n",
       "          [0.05],\n",
       "          [0.06],\n",
       "          [0.07],\n",
       "          [0.08],\n",
       "          [0.09],\n",
       "          [0.1 ]],\n",
       "  \n",
       "         [[0.  ],\n",
       "          [0.01],\n",
       "          [0.02],\n",
       "          [0.03],\n",
       "          [0.04],\n",
       "          [0.05],\n",
       "          [0.06],\n",
       "          [0.07],\n",
       "          [0.08],\n",
       "          [0.09],\n",
       "          [0.1 ]]])}}"
      ]
     },
     "execution_count": 24,
     "metadata": {},
     "output_type": "execute_result"
    }
   ],
   "source": [
    "ds3.sanitize()"
   ]
  },
  {
   "cell_type": "code",
   "execution_count": null,
   "metadata": {
    "hidden": true
   },
   "outputs": [],
   "source": []
  }
 ],
 "metadata": {
  "kernelspec": {
   "display_name": "Python [conda env:fusion_env]",
   "language": "python",
   "name": "conda-env-fusion_env-py"
  },
  "language_info": {
   "codemirror_mode": {
    "name": "ipython",
    "version": 3
   },
   "file_extension": ".py",
   "mimetype": "text/x-python",
   "name": "python",
   "nbconvert_exporter": "python",
   "pygments_lexer": "ipython3",
   "version": "3.7.4"
  },
  "toc": {
   "base_numbering": 1,
   "nav_menu": {},
   "number_sections": true,
   "sideBar": true,
   "skip_h1_title": false,
   "title_cell": "Table of Contents",
   "title_sidebar": "Contents",
   "toc_cell": false,
   "toc_position": {},
   "toc_section_display": true,
   "toc_window_display": true
  }
 },
 "nbformat": 4,
 "nbformat_minor": 2
}
