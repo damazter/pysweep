{
 "cells": [
  {
   "cell_type": "code",
   "execution_count": 1,
   "metadata": {
    "ExecuteTime": {
     "end_time": "2019-09-11T13:31:44.843058Z",
     "start_time": "2019-09-11T13:31:41.299536Z"
    }
   },
   "outputs": [
    {
     "name": "stdout",
     "output_type": "stream",
     "text": [
      "pyqtgraph plotting not supported, try \"from qcodes.plots.pyqtgraph import QtPlot\" to see the full error\n"
     ]
    }
   ],
   "source": [
    "import pysweep\n",
    "import qcodes as qc\n",
    "import pysweep.databackends.debug\n",
    "import pysweep.core.measurementfunctions\n",
    "from pysweep.core.sweepobject import SweepObject\n",
    "from pysweep.core.measurementfunctions import MakeMeasurementFunction\n",
    "import pysweep.convenience as conv\n",
    "import random\n",
    "import time"
   ]
  },
  {
   "cell_type": "code",
   "execution_count": 2,
   "metadata": {
    "ExecuteTime": {
     "end_time": "2019-09-11T13:31:44.865998Z",
     "start_time": "2019-09-11T13:31:44.851037Z"
    }
   },
   "outputs": [],
   "source": [
    "station = qc.Station()\n",
    "pysweep.STATION = station"
   ]
  },
  {
   "cell_type": "markdown",
   "metadata": {},
   "source": [
    "Define a few parameters to play with"
   ]
  },
  {
   "cell_type": "code",
   "execution_count": 3,
   "metadata": {
    "ExecuteTime": {
     "end_time": "2019-09-11T13:31:44.900903Z",
     "start_time": "2019-09-11T13:31:44.890929Z"
    }
   },
   "outputs": [],
   "source": [
    "a = qc.instrument.parameter.ManualParameter(\"a\", units=\"Q\")\n",
    "b = qc.instrument.parameter.ManualParameter(\"b\", units=\"W\")\n",
    "c = qc.instrument.parameter.ManualParameter(\"c\", units=\"E\")"
   ]
  },
  {
   "cell_type": "code",
   "execution_count": 4,
   "metadata": {
    "ExecuteTime": {
     "end_time": "2019-09-11T13:31:44.943790Z",
     "start_time": "2019-09-11T13:31:44.924842Z"
    }
   },
   "outputs": [],
   "source": [
    "@MakeMeasurementFunction([['some_value', 'arb.u.']])\n",
    "def measure(d):\n",
    "    return [1]"
   ]
  },
  {
   "cell_type": "code",
   "execution_count": 5,
   "metadata": {
    "ExecuteTime": {
     "end_time": "2019-09-11T13:31:44.965731Z",
     "start_time": "2019-09-11T13:31:44.950771Z"
    }
   },
   "outputs": [],
   "source": [
    "@MakeMeasurementFunction([['Temperature', 'mK']])\n",
    "def measure_temperature(d):\n",
    "    return [random.randint(100, 300)/10]"
   ]
  },
  {
   "cell_type": "markdown",
   "metadata": {},
   "source": [
    "# Simple measurements"
   ]
  },
  {
   "cell_type": "markdown",
   "metadata": {},
   "source": [
    "This paragraph contains some measurements that corresponds to the easiest cases of measurements. The cases cover 90% of all measurements that will run, but don't show the full power of pysweep"
   ]
  },
  {
   "cell_type": "code",
   "execution_count": 6,
   "metadata": {
    "ExecuteTime": {
     "end_time": "2019-09-11T13:31:45.160211Z",
     "start_time": "2019-09-11T13:31:44.972711Z"
    }
   },
   "outputs": [
    {
     "name": "stdout",
     "output_type": "stream",
     "text": [
      "<class 'pysweep.databackends.base.DataParameterFixedSweep'> c  numeric True\n",
      "<class 'pysweep.databackends.base.DataParameterFixedSweep'> b  numeric True\n",
      "<class 'pysweep.databackends.base.DataParameterFixedSweep'> a  numeric True\n",
      "<class 'pysweep.databackends.base.DataParameter'> some_value arb.u. numeric False\n",
      "[('c', 6), ('b', 3), ('a', 0), ('some_value', 1)]\n",
      "[('c', 6), ('b', 3), ('a', 1), ('some_value', 1)]\n",
      "[('c', 6), ('b', 3), ('a', 2), ('some_value', 1)]\n",
      "[('c', 6), ('b', 4), ('a', 0), ('some_value', 1)]\n",
      "[('c', 6), ('b', 4), ('a', 1), ('some_value', 1)]\n",
      "[('c', 6), ('b', 4), ('a', 2), ('some_value', 1)]\n",
      "[('c', 6), ('b', 5), ('a', 0), ('some_value', 1)]\n",
      "[('c', 6), ('b', 5), ('a', 1), ('some_value', 1)]\n",
      "[('c', 6), ('b', 5), ('a', 2), ('some_value', 1)]\n",
      "[('c', 7), ('b', 3), ('a', 0), ('some_value', 1)]\n",
      "[('c', 7), ('b', 3), ('a', 1), ('some_value', 1)]\n",
      "[('c', 7), ('b', 3), ('a', 2), ('some_value', 1)]\n",
      "[('c', 7), ('b', 4), ('a', 0), ('some_value', 1)]\n",
      "[('c', 7), ('b', 4), ('a', 1), ('some_value', 1)]\n",
      "[('c', 7), ('b', 4), ('a', 2), ('some_value', 1)]\n",
      "[('c', 7), ('b', 5), ('a', 0), ('some_value', 1)]\n",
      "[('c', 7), ('b', 5), ('a', 1), ('some_value', 1)]\n",
      "[('c', 7), ('b', 5), ('a', 2), ('some_value', 1)]\n",
      "[('c', 8), ('b', 3), ('a', 0), ('some_value', 1)]\n",
      "[('c', 8), ('b', 3), ('a', 1), ('some_value', 1)]\n",
      "[('c', 8), ('b', 3), ('a', 2), ('some_value', 1)]\n",
      "[('c', 8), ('b', 4), ('a', 0), ('some_value', 1)]\n",
      "[('c', 8), ('b', 4), ('a', 1), ('some_value', 1)]\n",
      "[('c', 8), ('b', 4), ('a', 2), ('some_value', 1)]\n",
      "[('c', 8), ('b', 5), ('a', 0), ('some_value', 1)]\n",
      "[('c', 8), ('b', 5), ('a', 1), ('some_value', 1)]\n",
      "[('c', 8), ('b', 5), ('a', 2), ('some_value', 1)]\n"
     ]
    },
    {
     "data": {
      "text/plain": [
       "<pysweep.databackends.debug.DebugDataBackend at 0x19ff7faa860>"
      ]
     },
     "execution_count": 6,
     "metadata": {},
     "output_type": "execute_result"
    }
   ],
   "source": [
    "db = pysweep.databackends.debug.DebugDataBackend()\n",
    "pysweep.databackend = db\n",
    "pysweep.sweep(lambda d:{}, lambda d:{}, measure, \n",
    "              pysweep.sweep_object(a, [0,1,2]),\n",
    "              pysweep.sweep_object(b, [3,4,5]),\n",
    "              pysweep.sweep_object(c, [6,7,8]))"
   ]
  },
  {
   "cell_type": "markdown",
   "metadata": {},
   "source": [
    "# Extended examples"
   ]
  },
  {
   "cell_type": "markdown",
   "metadata": {},
   "source": [
    "Here are a few examples of measurements that are still relatively simples, but with a few more bells and whistles"
   ]
  },
  {
   "cell_type": "markdown",
   "metadata": {},
   "source": [
    "say that we want to execute some function after we set the b parameter"
   ]
  },
  {
   "cell_type": "code",
   "execution_count": 7,
   "metadata": {
    "ExecuteTime": {
     "end_time": "2019-09-11T13:31:45.226037Z",
     "start_time": "2019-09-11T13:31:45.165197Z"
    }
   },
   "outputs": [
    {
     "name": "stdout",
     "output_type": "stream",
     "text": [
      "<class 'pysweep.databackends.base.DataParameterFixedSweep'> c  numeric True\n",
      "<class 'pysweep.databackends.base.DataParameterFixedSweep'> b  numeric True\n",
      "<class 'pysweep.databackends.base.DataParameter'> Temperature mK numeric False\n",
      "<class 'pysweep.databackends.base.DataParameterFixedSweep'> a  numeric True\n",
      "<class 'pysweep.databackends.base.DataParameter'> some_value arb.u. numeric False\n",
      "[('c', 6), ('b', 3), ('Temperature', 17.2), ('a', 0), ('some_value', 1)]\n",
      "[('c', 6), ('b', 3), ('Temperature', 17.2), ('a', 1), ('some_value', 1)]\n",
      "[('c', 6), ('b', 3), ('Temperature', 17.2), ('a', 2), ('some_value', 1)]\n",
      "[('c', 6), ('b', 4), ('Temperature', 20.7), ('a', 0), ('some_value', 1)]\n",
      "[('c', 6), ('b', 4), ('Temperature', 20.7), ('a', 1), ('some_value', 1)]\n",
      "[('c', 6), ('b', 4), ('Temperature', 20.7), ('a', 2), ('some_value', 1)]\n",
      "[('c', 6), ('b', 5), ('Temperature', 17.8), ('a', 0), ('some_value', 1)]\n",
      "[('c', 6), ('b', 5), ('Temperature', 17.8), ('a', 1), ('some_value', 1)]\n",
      "[('c', 6), ('b', 5), ('Temperature', 17.8), ('a', 2), ('some_value', 1)]\n",
      "[('c', 7), ('b', 3), ('Temperature', 17.6), ('a', 0), ('some_value', 1)]\n",
      "[('c', 7), ('b', 3), ('Temperature', 17.6), ('a', 1), ('some_value', 1)]\n",
      "[('c', 7), ('b', 3), ('Temperature', 17.6), ('a', 2), ('some_value', 1)]\n",
      "[('c', 7), ('b', 4), ('Temperature', 12.3), ('a', 0), ('some_value', 1)]\n",
      "[('c', 7), ('b', 4), ('Temperature', 12.3), ('a', 1), ('some_value', 1)]\n",
      "[('c', 7), ('b', 4), ('Temperature', 12.3), ('a', 2), ('some_value', 1)]\n",
      "[('c', 7), ('b', 5), ('Temperature', 29.7), ('a', 0), ('some_value', 1)]\n",
      "[('c', 7), ('b', 5), ('Temperature', 29.7), ('a', 1), ('some_value', 1)]\n",
      "[('c', 7), ('b', 5), ('Temperature', 29.7), ('a', 2), ('some_value', 1)]\n",
      "[('c', 8), ('b', 3), ('Temperature', 21.0), ('a', 0), ('some_value', 1)]\n",
      "[('c', 8), ('b', 3), ('Temperature', 21.0), ('a', 1), ('some_value', 1)]\n",
      "[('c', 8), ('b', 3), ('Temperature', 21.0), ('a', 2), ('some_value', 1)]\n",
      "[('c', 8), ('b', 4), ('Temperature', 23.2), ('a', 0), ('some_value', 1)]\n",
      "[('c', 8), ('b', 4), ('Temperature', 23.2), ('a', 1), ('some_value', 1)]\n",
      "[('c', 8), ('b', 4), ('Temperature', 23.2), ('a', 2), ('some_value', 1)]\n",
      "[('c', 8), ('b', 5), ('Temperature', 21.5), ('a', 0), ('some_value', 1)]\n",
      "[('c', 8), ('b', 5), ('Temperature', 21.5), ('a', 1), ('some_value', 1)]\n",
      "[('c', 8), ('b', 5), ('Temperature', 21.5), ('a', 2), ('some_value', 1)]\n"
     ]
    },
    {
     "data": {
      "text/plain": [
       "<pysweep.databackends.debug.DebugDataBackend at 0x19ff7f13048>"
      ]
     },
     "execution_count": 7,
     "metadata": {},
     "output_type": "execute_result"
    }
   ],
   "source": [
    "db = pysweep.databackends.debug.DebugDataBackend()\n",
    "pysweep.databackend = db\n",
    "pysweep.sweep(lambda d:{}, lambda d:{}, measure, \n",
    "              pysweep.sweep_object(a, [0,1,2]),\n",
    "              conv.add_function(pysweep.sweep_object(b, [3,4,5]), measure_temperature),\n",
    "              pysweep.sweep_object(c, [6,7,8]))"
   ]
  },
  {
   "cell_type": "markdown",
   "metadata": {},
   "source": [
    "# Adaptive sweep"
   ]
  },
  {
   "cell_type": "code",
   "execution_count": 8,
   "metadata": {
    "ExecuteTime": {
     "end_time": "2019-09-11T13:31:45.249972Z",
     "start_time": "2019-09-11T13:31:45.238003Z"
    }
   },
   "outputs": [],
   "source": [
    "@MakeMeasurementFunction([['timestamp', 's']])\n",
    "def smart_point_function(dict_waterfall):\n",
    "    timestamp = int(time.time())\n",
    "    points = [int(c) for c in str(timestamp)]\n",
    "    return points, [timestamp]"
   ]
  },
  {
   "cell_type": "code",
   "execution_count": 9,
   "metadata": {
    "ExecuteTime": {
     "end_time": "2019-09-11T13:31:45.317791Z",
     "start_time": "2019-09-11T13:31:45.259947Z"
    }
   },
   "outputs": [
    {
     "name": "stdout",
     "output_type": "stream",
     "text": [
      "<class 'pysweep.databackends.base.DataParameter'> timestamp s numeric False\n",
      "<class 'pysweep.databackends.base.DataParameterFixedSweep'> c  numeric True\n",
      "<class 'pysweep.databackends.base.DataParameterFixedSweep'> b  numeric True\n",
      "<class 'pysweep.databackends.base.DataParameter'> Temperature mK numeric False\n",
      "<class 'pysweep.databackends.base.DataParameterFixedSweep'> a  numeric True\n",
      "<class 'pysweep.databackends.base.DataParameter'> some_value arb.u. numeric False\n",
      "[('timestamp', 1568208705), ('c', 1), ('b', 3), ('Temperature', 24.8), ('a', 0), ('some_value', 1)]\n",
      "[('timestamp', 1568208705), ('c', 1), ('b', 3), ('Temperature', 24.8), ('a', 1), ('some_value', 1)]\n",
      "[('timestamp', 1568208705), ('c', 1), ('b', 4), ('Temperature', 28.0), ('a', 0), ('some_value', 1)]\n",
      "[('timestamp', 1568208705), ('c', 1), ('b', 4), ('Temperature', 28.0), ('a', 1), ('some_value', 1)]\n",
      "[('timestamp', 1568208705), ('c', 5), ('b', 3), ('Temperature', 13.6), ('a', 0), ('some_value', 1)]\n",
      "[('timestamp', 1568208705), ('c', 5), ('b', 3), ('Temperature', 13.6), ('a', 1), ('some_value', 1)]\n",
      "[('timestamp', 1568208705), ('c', 5), ('b', 4), ('Temperature', 24.9), ('a', 0), ('some_value', 1)]\n",
      "[('timestamp', 1568208705), ('c', 5), ('b', 4), ('Temperature', 24.9), ('a', 1), ('some_value', 1)]\n",
      "[('timestamp', 1568208705), ('c', 6), ('b', 3), ('Temperature', 25.6), ('a', 0), ('some_value', 1)]\n",
      "[('timestamp', 1568208705), ('c', 6), ('b', 3), ('Temperature', 25.6), ('a', 1), ('some_value', 1)]\n",
      "[('timestamp', 1568208705), ('c', 6), ('b', 4), ('Temperature', 24.2), ('a', 0), ('some_value', 1)]\n",
      "[('timestamp', 1568208705), ('c', 6), ('b', 4), ('Temperature', 24.2), ('a', 1), ('some_value', 1)]\n",
      "[('timestamp', 1568208705), ('c', 8), ('b', 3), ('Temperature', 20.2), ('a', 0), ('some_value', 1)]\n",
      "[('timestamp', 1568208705), ('c', 8), ('b', 3), ('Temperature', 20.2), ('a', 1), ('some_value', 1)]\n",
      "[('timestamp', 1568208705), ('c', 8), ('b', 4), ('Temperature', 11.1), ('a', 0), ('some_value', 1)]\n",
      "[('timestamp', 1568208705), ('c', 8), ('b', 4), ('Temperature', 11.1), ('a', 1), ('some_value', 1)]\n",
      "[('timestamp', 1568208705), ('c', 2), ('b', 3), ('Temperature', 26.3), ('a', 0), ('some_value', 1)]\n",
      "[('timestamp', 1568208705), ('c', 2), ('b', 3), ('Temperature', 26.3), ('a', 1), ('some_value', 1)]\n",
      "[('timestamp', 1568208705), ('c', 2), ('b', 4), ('Temperature', 28.5), ('a', 0), ('some_value', 1)]\n",
      "[('timestamp', 1568208705), ('c', 2), ('b', 4), ('Temperature', 28.5), ('a', 1), ('some_value', 1)]\n",
      "[('timestamp', 1568208705), ('c', 0), ('b', 3), ('Temperature', 22.1), ('a', 0), ('some_value', 1)]\n",
      "[('timestamp', 1568208705), ('c', 0), ('b', 3), ('Temperature', 22.1), ('a', 1), ('some_value', 1)]\n",
      "[('timestamp', 1568208705), ('c', 0), ('b', 4), ('Temperature', 22.1), ('a', 0), ('some_value', 1)]\n",
      "[('timestamp', 1568208705), ('c', 0), ('b', 4), ('Temperature', 22.1), ('a', 1), ('some_value', 1)]\n",
      "[('timestamp', 1568208705), ('c', 8), ('b', 3), ('Temperature', 14.1), ('a', 0), ('some_value', 1)]\n",
      "[('timestamp', 1568208705), ('c', 8), ('b', 3), ('Temperature', 14.1), ('a', 1), ('some_value', 1)]\n",
      "[('timestamp', 1568208705), ('c', 8), ('b', 4), ('Temperature', 11.2), ('a', 0), ('some_value', 1)]\n",
      "[('timestamp', 1568208705), ('c', 8), ('b', 4), ('Temperature', 11.2), ('a', 1), ('some_value', 1)]\n",
      "[('timestamp', 1568208705), ('c', 7), ('b', 3), ('Temperature', 29.5), ('a', 0), ('some_value', 1)]\n",
      "[('timestamp', 1568208705), ('c', 7), ('b', 3), ('Temperature', 29.5), ('a', 1), ('some_value', 1)]\n",
      "[('timestamp', 1568208705), ('c', 7), ('b', 4), ('Temperature', 15.1), ('a', 0), ('some_value', 1)]\n",
      "[('timestamp', 1568208705), ('c', 7), ('b', 4), ('Temperature', 15.1), ('a', 1), ('some_value', 1)]\n",
      "[('timestamp', 1568208705), ('c', 0), ('b', 3), ('Temperature', 15.2), ('a', 0), ('some_value', 1)]\n",
      "[('timestamp', 1568208705), ('c', 0), ('b', 3), ('Temperature', 15.2), ('a', 1), ('some_value', 1)]\n",
      "[('timestamp', 1568208705), ('c', 0), ('b', 4), ('Temperature', 27.8), ('a', 0), ('some_value', 1)]\n",
      "[('timestamp', 1568208705), ('c', 0), ('b', 4), ('Temperature', 27.8), ('a', 1), ('some_value', 1)]\n",
      "[('timestamp', 1568208705), ('c', 5), ('b', 3), ('Temperature', 23.9), ('a', 0), ('some_value', 1)]\n",
      "[('timestamp', 1568208705), ('c', 5), ('b', 3), ('Temperature', 23.9), ('a', 1), ('some_value', 1)]\n",
      "[('timestamp', 1568208705), ('c', 5), ('b', 4), ('Temperature', 25.7), ('a', 0), ('some_value', 1)]\n",
      "[('timestamp', 1568208705), ('c', 5), ('b', 4), ('Temperature', 25.7), ('a', 1), ('some_value', 1)]\n"
     ]
    },
    {
     "data": {
      "text/plain": [
       "<pysweep.databackends.debug.DebugDataBackend at 0x19ff7f130f0>"
      ]
     },
     "execution_count": 9,
     "metadata": {},
     "output_type": "execute_result"
    }
   ],
   "source": [
    "db = pysweep.databackends.debug.DebugDataBackend()\n",
    "pysweep.databackend = db\n",
    "pysweep.sweep(lambda d:{}, lambda d:{}, measure, \n",
    "              pysweep.sweep_object(a, [0,1]),\n",
    "              conv.add_function(pysweep.sweep_object(b, [3,4]), measure_temperature),\n",
    "              pysweep.sweep_object(c, smart_point_function))"
   ]
  }
 ],
 "metadata": {
  "kernelspec": {
   "display_name": "Python [conda env:scratch-env]",
   "language": "python",
   "name": "conda-env-scratch-env-py"
  },
  "language_info": {
   "codemirror_mode": {
    "name": "ipython",
    "version": 3
   },
   "file_extension": ".py",
   "mimetype": "text/x-python",
   "name": "python",
   "nbconvert_exporter": "python",
   "pygments_lexer": "ipython3",
   "version": "3.7.3"
  },
  "toc": {
   "base_numbering": 1,
   "nav_menu": {},
   "number_sections": true,
   "sideBar": true,
   "skip_h1_title": false,
   "title_cell": "Table of Contents",
   "title_sidebar": "Contents",
   "toc_cell": false,
   "toc_position": {},
   "toc_section_display": true,
   "toc_window_display": false
  }
 },
 "nbformat": 4,
 "nbformat_minor": 2
}
